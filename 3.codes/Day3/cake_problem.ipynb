{
 "cells": [
  {
   "cell_type": "markdown",
   "id": "b3e212b7",
   "metadata": {},
   "source": [
    "### Dynamic Programing\n",
    "\n",
    "#### Finite Horizon Problem\n",
    "\n",
    "Consider the following general problem:\n",
    "\n",
    "$$V(y_0, 0) = \\max_{\\substack{\\{x_t\\}_{t = 0}^{T - 1}}} \\sum_{t = 0}^{T - 1} \\beta_t u(x_t, y_t) $$\n",
    "\n",
    "such that:\n",
    "\n",
    "$$ y_{t + 1} = f{x_t, y_t}$$\n",
    "\n",
    "where $y_t$ is the state variable and $x_t$ is the control variable."
   ]
  },
  {
   "cell_type": "markdown",
   "id": "125c712a",
   "metadata": {},
   "source": [
    "#### Backwards Induction\n",
    "\n",
    "$$V(y_0, 0) = \\max_{\\substack{\\{x_t\\}_{t = 0}^{T - 1}}} \\sum_{t = 0}^{T - 1} \\beta_t u(x_t, y_t) $$\n",
    "\n",
    "$$= \\max_{\\substack{\\{x_t\\}_{t = 0}^{T - 1}}} [u(x_0, y_0) + \\sum_{t = 0}^{T - 2} \\beta_t u(x_t, y_t)]$$\n",
    "\n",
    "$$ = \\max_{\\substack{\\{x_t\\}_{t = 0}^{T - 1}}} [u(x_0, y_0) + \\beta V(y_1, 1)]$$\n",
    "\n",
    "There, we can solove the problem, if and only if we knew $V(., 1)$! \n",
    "\n",
    "BUT, we know that $V(., T) = 0$!! $\\to$  solve for $V(., T - 1)$"
   ]
  },
  {
   "cell_type": "markdown",
   "id": "3371a0d4",
   "metadata": {},
   "source": [
    "#### Cake-Eating Problem\n",
    "\n",
    "$$V(y_0) = \\max_{\\substack{\\{x_t\\}_{t = 0}^{T}}} \\sum_{t = 0}^T \\beta^tlog(x_t)$$\n",
    "\n",
    "subject to:\n",
    "\n",
    "$$y_t + 1 = y_t - x_t$$\n",
    "\n",
    "$$x_t = 0; y_{t + 1} = 0$$\n",
    "\n",
    "$$y_0 = A$$\n",
    "\n"
   ]
  },
  {
   "cell_type": "markdown",
   "id": "fc5ff962",
   "metadata": {},
   "source": [
    "#### Backwards Induiction: Solutin Method\n",
    "\n",
    "**Steps**\n",
    "\n",
    "1. Set up V-grid that defines the value function over T states\n",
    "2. Define state variables grid on which you will evaluate V(., t)\n",
    "3. Set up the loop over backwards induction\n",
    "    * at each t\n",
    "        * Construct a spline function for $V(., t + 1)$\n",
    "        * Set up a grid of potential $x_t$ choices (that satisfies contraints)\n",
    "        * Find optinal choices, saving it as well as the value function"
   ]
  },
  {
   "cell_type": "code",
   "execution_count": 5,
   "id": "c495c975",
   "metadata": {},
   "outputs": [],
   "source": [
    "import scipy as sp\n",
    "import numpy as np\n",
    "from scipy.interpolate import CubicSpline\n",
    "from math import log\n",
    "import matplotlib.pyplot as plt\n",
    "#import plotly.express as px"
   ]
  },
  {
   "cell_type": "code",
   "execution_count": 18,
   "id": "9159d446",
   "metadata": {},
   "outputs": [],
   "source": [
    "# Model primitives\n",
    "T = 50 # Number of periods\n",
    "β = .9 # Discount factor\n",
    "\n",
    "# Grid of potential state variables\n",
    "N_state = 50\n",
    "min_state = .01\n",
    "max_state = 10\n",
    "y0_state = np.linspace(min_state, max_state, N_state)\n",
    "\n",
    "# Options for grid to maximize over control variables\n",
    "N_opt = 10000\n",
    "eps = .001\n",
    "\n",
    "# Initialize value/control variables arrays\n",
    "V_grid = np.zeros((N_state, T + 1))\n",
    "x_opt = np.zeros((N_state, T + 1))\n",
    "\n",
    "# Utility function\n",
    "def util(x):\n",
    "    return np.log(x)"
   ]
  },
  {
   "cell_type": "code",
   "execution_count": 22,
   "id": "2934f19f",
   "metadata": {},
   "outputs": [],
   "source": [
    "# Loop (backwards) through each period\n",
    "for i in reversed(range(T)):\n",
    "    \n",
    "    # Spline of all y0 options and the column that corresponds to each period\n",
    "    V_prime_spline = CubicSpline(y0_state, V_grid[:, i + 1])\n",
    "    \n",
    "    # Loop over values of the state variable\n",
    "    for j in range(N_state):\n",
    "        \n",
    "        # Grid of control variables to optimize over (from almost 0, to almost the state variable)\n",
    "        x_grid = np.linspace(eps, y0_state[j] - eps, N_opt)\n",
    "        \n",
    "        # Calculate utility for each choice in x grid, plus the value in next period\n",
    "        # given the choice of the control variable (times a di)\n",
    "        vals = util(x_grid) + β*V_prime_spline(y0_state[j] - x_grid) \n",
    "        \n",
    "        # Max value\n",
    "        V_grid[j,i] = np.max(vals)\n",
    "\n",
    "        # Control choice corresponding to max value\n",
    "        x_opt[j, i] = x_grid[np.argmax(vals)]"
   ]
  },
  {
   "cell_type": "code",
   "execution_count": 32,
   "id": "4708472d",
   "metadata": {},
   "outputs": [
    {
     "data": {
      "image/png": "[encoded data removed]",
      "text/plain": [
       "<Figure size 432x288 with 1 Axes>"
      ]
     },
     "metadata": {
      "needs_background": "light"
     },
     "output_type": "display_data"
    }
   ],
   "source": [
    "plt.plot(y0_state,x_opt[:,0])\n",
    "plt.plot(y0_state,x_opt[:,25])\n",
    "plt.plot(y0_state,x_opt[:,42])\n",
    "plt.show()\n",
    "#Brian comment: Looks like there is some numerical error causing a kink in the top line. Or perhaps there is a big above. "
   ]
  },
  {
   "cell_type": "code",
   "execution_count": null,
   "id": "6c3d1c08",
   "metadata": {},
   "outputs": [],
   "source": []
  }
 ],
 "metadata": {
  "kernelspec": {
   "display_name": "Python 3",
   "language": "python",
   "name": "python3"
  },
  "language_info": {
   "codemirror_mode": {
    "name": "ipython",
    "version": 3
   },
   "file_extension": ".py",
   "mimetype": "text/x-python",
   "name": "python",
   "nbconvert_exporter": "python",
   "pygments_lexer": "ipython3",
   "version": "3.7.10"
  }
 },
 "nbformat": 4,
 "nbformat_minor": 5
}
