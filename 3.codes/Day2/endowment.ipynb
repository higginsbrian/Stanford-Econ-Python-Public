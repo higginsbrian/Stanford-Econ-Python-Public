{
 "cells": [
  {
   "cell_type": "markdown",
   "id": "a37f8588",
   "metadata": {},
   "source": [
    "### Market Equilibrium Without FOCs\n",
    "\n",
    "**Core Problem:** Perfectly Competitive Exchange Economy\n",
    "* Two consumers: A, B\n",
    "* Two goods: $x_1, x_2$\n",
    "* Utility: $(x_1^r + x_2^r)^{\\frac{1}{r}}$\n",
    "* Endowments: $\\{(y_1^A, y_2^A), (y_1^B, y2_B)\\} = \\{(10, 5), (5, 40)\\}$ \n",
    "\n",
    "**GOAL** Find equilibrium prices and allocation"
   ]
  },
  {
   "cell_type": "code",
   "execution_count": 1,
   "id": "96ea422c",
   "metadata": {},
   "outputs": [],
   "source": [
    "import numpy as np\n",
    "import pandas as pd\n",
    "#import plotly.express as px\n",
    "#import plotly.graph_objects as go\n",
    "import scipy.optimize as opt\n",
    "import math\n",
    "import matplotlib.pyplot as plt"
   ]
  },
  {
   "cell_type": "code",
   "execution_count": 2,
   "id": "24fbcd4f",
   "metadata": {},
   "outputs": [],
   "source": [
    "# Primitives\n",
    "# CES Parameter Values\n",
    "r = .6\n",
    "# Individual Endowments\n",
    "y = np.array([[10, 5], [5, 40]])\n",
    "# Total endowments (sums individual endowments by column)\n",
    "totals = np.sum(y, axis = 1)"
   ]
  },
  {
   "cell_type": "code",
   "execution_count": 3,
   "id": "c89f7923",
   "metadata": {},
   "outputs": [],
   "source": [
    "# Fxn: cesutility\n",
    "# Desc: Calculates the CES utility of a consumption bundle\n",
    "# Args:\n",
    "#   x: 2 element array of x1 and x2\n",
    "#   r: CES parameter\n",
    "# Return:\n",
    "#   util: Utility value\n",
    "def cesutility(x, r = r):\n",
    "    util = (x[0] ** r + x[1] ** r) ** (1/r)\n",
    "    return util\n",
    "\n",
    "# Same as above but returns the negative (for minimization)\n",
    "def minutil(x, r = r):\n",
    "     util = (x[0]**r + x[1]**r)**(1/r)\n",
    "     return -util"
   ]
  },
  {
   "cell_type": "code",
   "execution_count": 4,
   "id": "6d7e32ed",
   "metadata": {},
   "outputs": [],
   "source": [
    "# Fxn: cesindif\n",
    "# Desc: Calculates the amount of x1 needed to maintain a given amount of\n",
    "#       utility given an amount of x0\n",
    "# Args:\n",
    "#   U: scalar, level of utility\n",
    "#   x0: scalar, level of x0\n",
    "#   r: scalar, CES utility parameter\n",
    "# Return:\n",
    "#   x1: level of x1\n",
    "def cesindif(U, x0, r = r):\n",
    "    x1 = (U**r - x0**r)**(1/r)\n",
    "    return(x1)"
   ]
  },
  {
   "cell_type": "markdown",
   "id": "c4bbda9e",
   "metadata": {},
   "source": [
    "### Indiference Curves"
   ]
  },
  {
   "cell_type": "code",
   "execution_count": 5,
   "id": "e0a8ca42",
   "metadata": {},
   "outputs": [],
   "source": [
    "# Calculate utility at endowments\n",
    "UA = cesutility(y[0, :])\n",
    "UB = cesutility(y[1, :])\n",
    "\n",
    "# Grid of all possible x1 for person a (and person b for that matter)\n",
    "x1a = np.linspace(0, totals[0], 100)\n",
    "\n",
    "# Calculate Indiference Curves\n",
    "x2a = cesindif(UA, x1a)\n",
    "x2b = cesindif(UB, x1a)\n",
    "\n",
    "# Scale Y axis for person B\n",
    "x1b = totals[0] - x1a\n",
    "x2b = totals[1] - x2b"
   ]
  },
  {
   "cell_type": "code",
   "execution_count": 6,
   "id": "fa68d447",
   "metadata": {},
   "outputs": [
    {
     "data": {
      "text/plain": [
       "(0.0, 45.0)"
      ]
     },
     "execution_count": 6,
     "metadata": {},
     "output_type": "execute_result"
    },
    {
     "data": {
      "image/png": "[encoded data removed]",
      "text/plain": [
       "<Figure size 432x288 with 1 Axes>"
      ]
     },
     "metadata": {
      "needs_background": "light"
     },
     "output_type": "display_data"
    }
   ],
   "source": [
    "plt.plot(x1a,x2a)\n",
    "plt.plot(x1b,x2b)\n",
    "plt.plot(x1b,x2b)\n",
    "plt.xlim(0,totals[0])\n",
    "plt.ylim(0,totals[1])"
   ]
  },
  {
   "cell_type": "markdown",
   "id": "8400b052",
   "metadata": {},
   "source": [
    "# Budget constraint"
   ]
  },
  {
   "cell_type": "code",
   "execution_count": 7,
   "id": "4b0ba612",
   "metadata": {},
   "outputs": [
    {
     "data": {
      "text/plain": [
       "(0.0, 45.0)"
      ]
     },
     "execution_count": 7,
     "metadata": {},
     "output_type": "execute_result"
    },
    {
     "data": {
      "image/png": "[encoded data removed]",
      "text/plain": [
       "<Figure size 432x288 with 1 Axes>"
      ]
     },
     "metadata": {
      "needs_background": "light"
     },
     "output_type": "display_data"
    }
   ],
   "source": [
    "# Vector of prices\n",
    "p = np.array([1, .5])\n",
    "\n",
    "# Person A wealth at endowent\n",
    "wA = np.dot(p,y[0, :])\n",
    "\n",
    "# Amount of x2 person A can buy given an amount of x1\n",
    "c2a = (wA - x1a*p[0])/p[1]\n",
    "\n",
    "plt.plot(x1a,x2a)\n",
    "plt.plot(x1b,x2b)\n",
    "plt.plot(x1b,x2b)\n",
    "plt.plot(x1a,c2a, '--')\n",
    "plt.xlim(0,totals[0])\n",
    "plt.ylim(0,totals[1])"
   ]
  },
  {
   "cell_type": "markdown",
   "id": "ce9b97bf",
   "metadata": {},
   "source": [
    "### Individual Demand"
   ]
  },
  {
   "cell_type": "code",
   "execution_count": 8,
   "id": "bf0a08af",
   "metadata": {},
   "outputs": [],
   "source": [
    "# Defines a LinearConstraint object given an endowment and vector of prices\n",
    "\n",
    "# Fxn: make_contraint\n",
    "# Desc: Defines a scipy.optimize LinearConstraint given endowment/price vectors\n",
    "# Args: \n",
    "#   endow: array, endowment of x1, x2\n",
    "#   p: array: prices of x1, x2\n",
    "# Return: \n",
    "#   const: linear constraint\n",
    "def make_constraint(endow, p):\n",
    "    I = np.dot(p,endow)\n",
    "    const = opt.LinearConstraint(p, I, I)\n",
    "    return const"
   ]
  },
  {
   "cell_type": "code",
   "execution_count": 9,
   "id": "df8400d8",
   "metadata": {},
   "outputs": [],
   "source": [
    "# Make constrain for person A, calculate their utility maximimzing bundle and indiference curve\n",
    "constA = make_constraint(y[0, :], p)\n",
    "\n",
    "# Minimize the negative utility function given the linear constraint\n",
    "retA = opt.minimize(minutil,\n",
    "               x0 = 10 * np.random.random(2),\n",
    "               constraints = constA)\n",
    "# Optimal consumption/maximum utility\n",
    "xA = retA.x\n",
    "max_utilA = -retA.fun\n",
    "# Indiference curve at optimal consumption point\n",
    "max_indifA = np.array([cesindif(max_utilA, x1) for x1 in x1a])"
   ]
  },
  {
   "cell_type": "code",
   "execution_count": 10,
   "id": "d2cdef72",
   "metadata": {},
   "outputs": [],
   "source": [
    "# Same as above but for person B\n",
    "constB = make_constraint(y[1, :], p)\n",
    "\n",
    "retB = opt.minimize(minutil,\n",
    "               x0 = 10 * np.random.random(2),\n",
    "               constraints = constB)\n",
    "\n",
    "xB = retB.x\n",
    "max_utilB = -retB.fun\n",
    "max_utilA = -retA.fun\n",
    "max_indifB =cesindif(max_utilB, x1a)\n",
    "max_indifB = 45 - max_indifB"
   ]
  },
  {
   "cell_type": "code",
   "execution_count": null,
   "id": "9096dd9c",
   "metadata": {},
   "outputs": [],
   "source": []
  },
  {
   "cell_type": "markdown",
   "id": "76504aca",
   "metadata": {},
   "source": [
    "### Agegate Demand"
   ]
  },
  {
   "cell_type": "code",
   "execution_count": 11,
   "id": "819c04fd",
   "metadata": {},
   "outputs": [],
   "source": [
    "# Fxn: agg_demand\n",
    "# Desc: Calculates the total demand given a set of prices and endowments\n",
    "# Args: \n",
    "#   p2: scalar, price of x2 (price of x1 is set to 1)\n",
    "#   y: 2x2 array, endowments\n",
    "# Return: \n",
    "#   agg_dem2: the total demand for x2\n",
    "def agg_demand(p2, y):\n",
    "    \n",
    "    # Array of prices, set the price of x1 to 1\n",
    "    p = np.array([1, p2])\n",
    "    \n",
    "    # Find individual demands\n",
    "    constA = make_constraint(y[0, :], p)\n",
    "    constB = make_constraint(y[1, :], p)\n",
    "\n",
    "    xA = opt.minimize(minutil,\n",
    "                  x0 = 10 * np.random.random(2),\n",
    "                  constraints = constA).x\n",
    "    \n",
    "    xB = opt.minimize(minutil,\n",
    "                  x0 = 10 * np.random.random(2),\n",
    "                  constraints = constB).x\n",
    "    \n",
    "    # Sum total demands for x2\n",
    "    agg_dem2 = xA[1] + xB[1]\n",
    "\n",
    "    return agg_dem2"
   ]
  },
  {
   "cell_type": "code",
   "execution_count": 12,
   "id": "349fd9e3",
   "metadata": {},
   "outputs": [
    {
     "name": "stderr",
     "output_type": "stream",
     "text": [
      "C:\\Users\\email\\Anaconda3\\lib\\site-packages\\ipykernel_launcher.py:14: RuntimeWarning: invalid value encountered in double_scalars\n",
      "  \n"
     ]
    }
   ],
   "source": [
    "# Array of different possible prices for x2\n",
    "p2_grid = np.linspace(.1, 2, 100)\n",
    "\n",
    "# Calculate total demand at each price\n",
    "\n",
    "agg_dem2 = np.zeros_like(p2_grid)\n",
    "for i in range(np.shape(p2_grid)[0]):\n",
    "    agg_dem2[i] = agg_demand(p2_grid[i], y)\n",
    "\n",
    "# Total supply of 2 is just the endowment (repeat it 100 times for plotting)\n",
    "agg_sup2 = np.repeat([totals[1]], 100)\n"
   ]
  },
  {
   "cell_type": "code",
   "execution_count": 13,
   "id": "4fb75ee4",
   "metadata": {},
   "outputs": [
    {
     "data": {
      "text/plain": [
       "<matplotlib.legend.Legend at 0x163380f0e88>"
      ]
     },
     "execution_count": 13,
     "metadata": {},
     "output_type": "execute_result"
    },
    {
     "data": {
      "image/png": "[encoded data removed]",
      "text/plain": [
       "<Figure size 432x288 with 1 Axes>"
      ]
     },
     "metadata": {
      "needs_background": "light"
     },
     "output_type": "display_data"
    }
   ],
   "source": [
    "plt.plot(agg_sup2, p2_grid, label='Supply')\n",
    "plt.plot(agg_dem2, p2_grid, label='Demand')\n",
    "plt.ylabel('Price')\n",
    "plt.xlabel('Quantity')\n",
    "plt.legend()"
   ]
  },
  {
   "cell_type": "code",
   "execution_count": null,
   "id": "7e62fb63",
   "metadata": {},
   "outputs": [],
   "source": []
  },
  {
   "cell_type": "code",
   "execution_count": null,
   "id": "68425976",
   "metadata": {},
   "outputs": [],
   "source": []
  }
 ],
 "metadata": {
  "kernelspec": {
   "display_name": "Python 3",
   "language": "python",
   "name": "python3"
  },
  "language_info": {
   "codemirror_mode": {
    "name": "ipython",
    "version": 3
   },
   "file_extension": ".py",
   "mimetype": "text/x-python",
   "name": "python",
   "nbconvert_exporter": "python",
   "pygments_lexer": "ipython3",
   "version": "3.7.10"
  }
 },
 "nbformat": 4,
 "nbformat_minor": 5
}
