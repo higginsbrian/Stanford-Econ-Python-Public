{
 "cells": [
  {
   "cell_type": "markdown",
   "id": "49ce39a9",
   "metadata": {},
   "source": [
    "# Parallelization with Python\n",
    "To learn parallelization, we do a simple maximisation \n",
    "\n",
    "\\begin{eqnarray}\n",
    "\\max_c \\quad  log(c)  \\\\\\\n",
    "\\text{s.t.} \\quad c \\leq w\n",
    "\\end{eqnarray}\n",
    "\n",
    "Clearly the solution is to consume all your income. Lets check how fast the computer can find this solution when we search over a grid using\n",
    "1. a python loop;\n",
    "2. a JIT (just in time compilation) numba loop;\n",
    "3. a parallel (multi-threaded) loop with numba;\n",
    "4. vectorization (i.e. maximization over every row in a matrix) with numpy;\n",
    "5. gpu vectorization with cupy. \n",
    "\n",
    "Note that numpy is pythons matlab-like library for dealing with matrices. Cupy is a gpu version of numpy, so it is like the gpuArray that we used with matlab.  \n",
    "\n",
    "I find that the GPU is fastest, followed by Numba Parallel, Numba non-parallel, Numpy vectorization, and a python loop. The scores below show that it is worth testing your code for speed. While the scores are close for this problem, they can be much bigger for more complicated problems. "
   ]
  },
  {
   "cell_type": "code",
   "execution_count": 30,
   "id": "6fab68fd",
   "metadata": {},
   "outputs": [],
   "source": [
    "import numpy as np\n",
    "from numba import njit, vectorize, float64, prange, int64, threading_layer\n",
    "import cupy as cp\n",
    "import time\n",
    "import matplotlib.pyplot as plt"
   ]
  },
  {
   "cell_type": "code",
   "execution_count": 31,
   "id": "09225ec9",
   "metadata": {},
   "outputs": [],
   "source": [
    "N_state = 10000\n",
    "x_grid = np.linspace(0.01,10,N_state)\n",
    "choice = np.tile(x_grid,[N_state,1])\n",
    "choice.shape\n",
    "utility = np.zeros((N_state,N_state))\n",
    "\n",
    "max_utility_loop = np.zeros((N_state,N_state))\n",
    "max_index_loop =  np.zeros((N_state,N_state), dtype=int)\n",
    "\n",
    "@vectorize([float64(float64)])\n",
    "def u(x):\n",
    "    return np.log(x)"
   ]
  },
  {
   "cell_type": "code",
   "execution_count": 32,
   "id": "d4c01811",
   "metadata": {},
   "outputs": [
    {
     "name": "stdout",
     "output_type": "stream",
     "text": [
      "[[  -4.60517019 -100.         -100.         -100.         -100.        ]\n",
      " [  -4.60517019   -4.50994184 -100.         -100.         -100.        ]\n",
      " [  -4.60517019   -4.50994184   -4.42299866 -100.         -100.        ]\n",
      " [  -4.60517019   -4.50994184   -4.42299866   -4.34301366 -100.        ]\n",
      " [  -4.60517019   -4.50994184   -4.42299866   -4.34301366   -4.26895515]]\n"
     ]
    }
   ],
   "source": [
    "utility = u(choice) \n",
    "utility = np.where(choice>choice.T, -100 ,utility)\n",
    "print(utility[0:5,0:5])\n"
   ]
  },
  {
   "cell_type": "code",
   "execution_count": 33,
   "id": "a43abd40",
   "metadata": {},
   "outputs": [],
   "source": [
    "# create gpu array of utility\n",
    "utility_gpu =  cp.asarray(utility) "
   ]
  },
  {
   "cell_type": "markdown",
   "id": "5437d6a2",
   "metadata": {},
   "source": [
    "# Compute maximum\n",
    "## Numpy vectorization"
   ]
  },
  {
   "cell_type": "code",
   "execution_count": 34,
   "id": "90145b6c",
   "metadata": {},
   "outputs": [
    {
     "name": "stdout",
     "output_type": "stream",
     "text": [
      "CPU, vectorization with numpy: \n",
      "0.24786067008972168\n"
     ]
    }
   ],
   "source": [
    "# compute maximum\n",
    "print('CPU, vectorization with numpy: ')\n",
    "start = time.time()\n",
    "max_utility_index = np.argmax(utility,1)\n",
    "#max_utility = np.take_along_axis( utility, np.expand_dims(max_utility_index, axis=1), axis=1)\n",
    "max_utility = np.max(utility,1)\n",
    "\n",
    "time_cpu = time.time()- start\n",
    "print(time_cpu)\n"
   ]
  },
  {
   "cell_type": "code",
   "execution_count": 35,
   "id": "d84ddf6f",
   "metadata": {},
   "outputs": [
    {
     "data": {
      "text/plain": [
       "Text(0, 0.5, 'Income (state)')"
      ]
     },
     "execution_count": 35,
     "metadata": {},
     "output_type": "execute_result"
    },
    {
     "data": {
      "image/png": "[encoded data removed]",
      "text/plain": [
       "<Figure size 432x288 with 1 Axes>"
      ]
     },
     "metadata": {
      "needs_background": "light"
     },
     "output_type": "display_data"
    }
   ],
   "source": [
    "plt.plot(x_grid,x_grid[max_utility_index])\n",
    "plt.ylabel('Choice')\n",
    "plt.ylabel('Income (state)')"
   ]
  },
  {
   "cell_type": "markdown",
   "id": "7753c3dc",
   "metadata": {},
   "source": [
    "## Python loop"
   ]
  },
  {
   "cell_type": "code",
   "execution_count": 36,
   "id": "1627ddb5",
   "metadata": {},
   "outputs": [
    {
     "name": "stdout",
     "output_type": "stream",
     "text": [
      "CPU: loop\n",
      "0.2866072654724121\n"
     ]
    }
   ],
   "source": [
    "print('CPU: loop')\n",
    "start = time.time()\n",
    "for i in range(N_state):\n",
    "    max_utility_index[i] = np.argmax(utility[i,:])\n",
    "    max_utility[i] = np.max(utility[i,:])\n",
    "    \n",
    "time_cpu_loop = time.time()- start\n",
    "print(time_cpu_loop)"
   ]
  },
  {
   "cell_type": "markdown",
   "id": "2bcf9abb",
   "metadata": {},
   "source": [
    "Interestingly in this example the loop isn't too slow. "
   ]
  },
  {
   "cell_type": "markdown",
   "id": "33feb12e",
   "metadata": {},
   "source": [
    "## Numba JIT loop and parallization"
   ]
  },
  {
   "cell_type": "code",
   "execution_count": 37,
   "id": "8e44256e",
   "metadata": {},
   "outputs": [],
   "source": [
    "@njit\n",
    "def loop_numba(N_state,utility,max_index_loop,max_utility_loop):\n",
    "    for i in range(N_state):       \n",
    "        max_utility_loop[i] = np.max( utility[i,:])\n",
    "        max_index_loop[i] = np.argmax(utility[i,:])\n",
    "    return  max_index_loop ,max_utility_loop\n",
    "\n",
    "@njit(parallel=True)\n",
    "def loop_numba_parallel(N_state,utility,max_index_loop,max_utility_loop):\n",
    "    for i in prange(N_state):       \n",
    "        max_utility_loop[i] = np.max(utility[i,:])\n",
    "        max_index_loop[i] = np.argmax(utility[i,:])\n",
    "    return  max_index_loop ,max_utility_loop\n"
   ]
  },
  {
   "cell_type": "code",
   "execution_count": 39,
   "id": "8872b6d2",
   "metadata": {},
   "outputs": [
    {
     "name": "stdout",
     "output_type": "stream",
     "text": [
      "CPU: numba\n",
      "0.22082257270812988\n",
      "\n",
      "CPU: numba parallel\n",
      "0.050853729248046875\n"
     ]
    }
   ],
   "source": [
    "max_utility_loop = np.zeros((N_state))\n",
    "max_index_loop =  np.zeros((N_state), dtype=int)\n",
    "print('CPU: numba')\n",
    "start = time.time()\n",
    "max_index_numba  =  loop_numba(N_state,utility,max_index_loop,max_utility_loop)\n",
    "time_cpu_numba = time.time()- start\n",
    "print(time_cpu_numba)\n",
    "\n",
    "print()\n",
    "print('CPU: numba parallel')\n",
    "start = time.time()\n",
    "max_index_numba  =  loop_numba_parallel(N_state,utility,max_index_loop,max_utility_loop)\n",
    "time_cpu_numba_par = time.time()- start\n",
    "print(time_cpu_numba_par)"
   ]
  },
  {
   "cell_type": "markdown",
   "id": "a2a22955",
   "metadata": {},
   "source": [
    "Note: since the first run includes the costly compilation step, we should run this again to find the speed it would take if we repeatedly called these functions. "
   ]
  },
  {
   "cell_type": "markdown",
   "id": "e40acf74",
   "metadata": {},
   "source": [
    "## GPU vectorization"
   ]
  },
  {
   "cell_type": "code",
   "execution_count": 40,
   "id": "5483551d",
   "metadata": {},
   "outputs": [
    {
     "name": "stdout",
     "output_type": "stream",
     "text": [
      "GPU: \n",
      "0.018231231689453127\n"
     ]
    }
   ],
   "source": [
    "# compute maximum\n",
    "print('GPU: ')\n",
    "start_gpu = cp.cuda.Event()\n",
    "end_gpu = cp.cuda.Event()\n",
    "\n",
    "start_gpu.record()\n",
    "max_utility_index_gpu = cp.argmax(utility_gpu,axis=1)\n",
    "#max_utility_gpu = cp.take_along_axis( utility, cp.expand_dims(max_utility_index_gpu, axis=1), axis=1)\n",
    "\n",
    "end_gpu.record()\n",
    "end_gpu.synchronize()\n",
    "time_gpu = cp.cuda.get_elapsed_time(start_gpu, end_gpu)\n",
    "print(0.001*time_gpu)"
   ]
  },
  {
   "cell_type": "markdown",
   "id": "edbb453a",
   "metadata": {},
   "source": [
    "## Comparing speeds"
   ]
  },
  {
   "cell_type": "code",
   "execution_count": 43,
   "id": "352b41a5",
   "metadata": {},
   "outputs": [
    {
     "name": "stdout",
     "output_type": "stream",
     "text": [
      "speedup Numba parallel (vs python loop)\n",
      "5.635914410021754\n",
      "\n",
      "speedup GPU (vs numba CPU parallel)\n",
      "2.7893743063704277\n",
      "\n",
      "speedup GPU (vs python loop)\n",
      "15.720674848217527\n"
     ]
    }
   ],
   "source": [
    "print('speedup Numba parallel (vs python loop)')\n",
    "print(time_cpu_loop/time_cpu_numba_par)\n",
    "print('')\n",
    "print('speedup GPU (vs numba CPU parallel)')\n",
    "print(time_cpu_numba_par/(0.001*time_gpu))\n",
    "print('')\n",
    "print('speedup GPU (vs python loop)')\n",
    "print(time_cpu_loop/(0.001*time_gpu))"
   ]
  },
  {
   "cell_type": "code",
   "execution_count": null,
   "id": "46943279",
   "metadata": {},
   "outputs": [],
   "source": []
  },
  {
   "cell_type": "code",
   "execution_count": null,
   "id": "611b06c0",
   "metadata": {},
   "outputs": [],
   "source": []
  }
 ],
 "metadata": {
  "kernelspec": {
   "display_name": "Python 3",
   "language": "python",
   "name": "python3"
  },
  "language_info": {
   "codemirror_mode": {
    "name": "ipython",
    "version": 3
   },
   "file_extension": ".py",
   "mimetype": "text/x-python",
   "name": "python",
   "nbconvert_exporter": "python",
   "pygments_lexer": "ipython3",
   "version": "3.7.10"
  }
 },
 "nbformat": 4,
 "nbformat_minor": 5
}
