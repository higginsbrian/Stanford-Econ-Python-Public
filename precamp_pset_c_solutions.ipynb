{
 "cells": [
  {
   "cell_type": "markdown",
   "id": "4334b70d",
   "metadata": {},
   "source": [
    "# Pareto Distributions\n",
    "Let’s consider the following distribution:\n",
    "\\begin{eqnarray}\n",
    "F_X(x) &= 1-\\frac{x_m}{x}^\\alpha \\quad &\\text{if}  \\quad  x \\geq x_m \\\\\\\n",
    " &0 \\quad  &\\text{if}  \\quad  x < x_m\n",
    "\\end{eqnarray}\n",
    "\\begin{eqnarray}\n",
    "f_X(x) &= \\frac{\\alpha x_m^\\alpha}{x^{\\alpha +1}} \\quad &\\text{if}  \\quad  x \\geq x_m \\\\\\\n",
    " &0 \\quad  &\\text{if}  \\quad  x < x_m\n",
    "\\end{eqnarray}\n",
    "\n",
    "### EXERCISES\n",
    "1. Write a function for the Pareto PDF ($\\alpha = 2$; $x_m = 1$), call it paretopdf.\n",
    "2. Write a function for the Pareto CDF, call it paretocdf.\n",
    "3. Plot the Pareto PDF\n",
    "4. Define a grid x that covers (3,4), with step size d.\n",
    "5. Evaluate Pareto density on x, store as fx.\n",
    "6. Using the grid from 4., and fx, figure out a way to approximate the likelihood of the Pareto distributed random variable to lie within $[3,4]$.\n"
   ]
  },
  {
   "cell_type": "markdown",
   "id": "04342a93",
   "metadata": {},
   "source": [
    "### 1. Write a function for the Pareto PDF ( 𝛼=2 ;  𝑥𝑚=1 ), call it pareto_pdf.\n",
    "\n",
    "Note that we can use default values for parameters in our function. We can then call this function without specifying them. But we can change them if we want. "
   ]
  },
  {
   "cell_type": "code",
   "execution_count": 95,
   "id": "a87b5640",
   "metadata": {},
   "outputs": [],
   "source": [
    "import numpy as np\n",
    "import matplotlib.pyplot as plt"
   ]
  },
  {
   "cell_type": "code",
   "execution_count": 96,
   "id": "d61182de",
   "metadata": {},
   "outputs": [],
   "source": [
    "def pareto_pdf(x,alpha=2,x_m=1):\n",
    "    \n",
    "    #initialize output\n",
    "    n = np.shape(x)[0]\n",
    "    output = np.zeros(n)\n",
    "    \n",
    "    output_temp = (alpha*(x_m**alpha))*(x**(-alpha-1))\n",
    "    \n",
    "    output = np.where(x > x_m, output_temp, 0)\n",
    "        \n",
    "    return output"
   ]
  },
  {
   "cell_type": "code",
   "execution_count": 97,
   "id": "4f416bd4",
   "metadata": {},
   "outputs": [
    {
     "name": "stderr",
     "output_type": "stream",
     "text": [
      "C:\\Users\\email\\Anaconda3\\lib\\site-packages\\ipykernel_launcher.py:7: RuntimeWarning: divide by zero encountered in power\n",
      "  import sys\n"
     ]
    },
    {
     "data": {
      "text/plain": [
       "array([0.        , 0.        , 0.25      , 0.07407407, 0.03125   ,\n",
       "       0.016     , 0.00925926, 0.0058309 , 0.00390625, 0.00274348])"
      ]
     },
     "execution_count": 97,
     "metadata": {},
     "output_type": "execute_result"
    }
   ],
   "source": [
    "x_input = np.arange(10.0)\n",
    "pareto_pdf(x_input)"
   ]
  },
  {
   "cell_type": "code",
   "execution_count": 98,
   "id": "36cad0bc",
   "metadata": {},
   "outputs": [],
   "source": [
    "def pareto_cdf(x,alpha=2,x_m=1):\n",
    "    \n",
    "    output_temp = 1- ( (x_m**alpha)*(x**(-alpha) ) )\n",
    "    \n",
    "    output = np.where(x > x_m, output_temp, 0)\n",
    "        \n",
    "    return output"
   ]
  },
  {
   "cell_type": "markdown",
   "id": "ab4753e9",
   "metadata": {},
   "source": [
    "### 2. Write a function for the Pareto CDF, call it pareto_cdf."
   ]
  },
  {
   "cell_type": "code",
   "execution_count": 99,
   "id": "42d2e353",
   "metadata": {},
   "outputs": [
    {
     "name": "stderr",
     "output_type": "stream",
     "text": [
      "C:\\Users\\email\\Anaconda3\\lib\\site-packages\\ipykernel_launcher.py:3: RuntimeWarning: divide by zero encountered in power\n",
      "  This is separate from the ipykernel package so we can avoid doing imports until\n"
     ]
    },
    {
     "data": {
      "text/plain": [
       "array([0.        , 0.        , 0.75      , 0.88888889, 0.9375    ,\n",
       "       0.96      , 0.97222222, 0.97959184, 0.984375  , 0.98765432])"
      ]
     },
     "execution_count": 99,
     "metadata": {},
     "output_type": "execute_result"
    }
   ],
   "source": [
    "pareto_cdf(x_input)"
   ]
  },
  {
   "cell_type": "markdown",
   "id": "eb5a364f",
   "metadata": {},
   "source": [
    "### 3. Plot the Pareto PDF\n",
    "See the other problem sets to see how to make the plot look better. "
   ]
  },
  {
   "cell_type": "code",
   "execution_count": 100,
   "id": "ea016eb5",
   "metadata": {},
   "outputs": [
    {
     "name": "stderr",
     "output_type": "stream",
     "text": [
      "C:\\Users\\email\\Anaconda3\\lib\\site-packages\\ipykernel_launcher.py:7: RuntimeWarning: divide by zero encountered in power\n",
      "  import sys\n"
     ]
    },
    {
     "data": {
      "text/plain": [
       "Text(0, 0.5, 'PDF')"
      ]
     },
     "execution_count": 100,
     "metadata": {},
     "output_type": "execute_result"
    },
    {
     "data": {
      "image/png": "[encoded data removed]",
      "text/plain": [
       "<Figure size 432x288 with 1 Axes>"
      ]
     },
     "metadata": {
      "needs_background": "light"
     },
     "output_type": "display_data"
    }
   ],
   "source": [
    "grid = np.linspace(0,10.0,100)\n",
    "plt.plot(grid,pareto_pdf(grid))\n",
    "plt.xlabel('x')\n",
    "plt.ylabel('PDF')\n"
   ]
  },
  {
   "cell_type": "markdown",
   "id": "796f0aef",
   "metadata": {},
   "source": [
    "### 4. Define a grid called x that covers (3,4), with step size d.\n",
    "\n",
    "### 5. Evaluate Pareto density on x, store as fx.\n"
   ]
  },
  {
   "cell_type": "code",
   "execution_count": 101,
   "id": "52b64ee3",
   "metadata": {},
   "outputs": [
    {
     "name": "stderr",
     "output_type": "stream",
     "text": [
      "C:\\Users\\email\\Anaconda3\\lib\\site-packages\\ipykernel_launcher.py:7: RuntimeWarning: divide by zero encountered in power\n",
      "  import sys\n"
     ]
    },
    {
     "data": {
      "text/plain": [
       "Text(0, 0.5, 'PDF')"
      ]
     },
     "execution_count": 101,
     "metadata": {},
     "output_type": "execute_result"
    },
    {
     "data": {
      "image/png": "[encoded data removed]",
      "text/plain": [
       "<Figure size 432x288 with 1 Axes>"
      ]
     },
     "metadata": {
      "needs_background": "light"
     },
     "output_type": "display_data"
    }
   ],
   "source": [
    "interval = np.array([3,4])\n",
    "step_size = 0.01\n",
    "\n",
    "# ARANGE ALLOWS USE TO USE STEP SIZE (UNLIKE LINSPACE)\n",
    "x = np.arange(interval[0],interval[1],step_size)\n",
    "f_x = pareto_pdf(x)\n",
    "\n",
    "plt.plot(grid,pareto_pdf(grid))\n",
    "plt.xlabel('x')\n",
    "plt.ylabel('PDF')"
   ]
  },
  {
   "cell_type": "markdown",
   "id": "7f8b20f4",
   "metadata": {},
   "source": [
    "### 6. Using the grid from 4., and fx, figure out a way to approximate the likelihood of the Pareto distributed random variable to lie within  [3,4] .\n",
    "\n",
    "First lets compute the true probability using the CDF\n",
    "$$\n",
    "F(4) - F(3)\n",
    "$$"
   ]
  },
  {
   "cell_type": "code",
   "execution_count": 102,
   "id": "a36102ed",
   "metadata": {},
   "outputs": [],
   "source": [
    "a = pareto_cdf(4.0)\n",
    "b = pareto_cdf(3.0)\n",
    "probability_cdf = a-b"
   ]
  },
  {
   "cell_type": "markdown",
   "id": "4f947231",
   "metadata": {},
   "source": [
    "Next we can approximate the probability by appropriately summing up the PDF along our grid.  "
   ]
  },
  {
   "cell_type": "code",
   "execution_count": 103,
   "id": "97c8ad37",
   "metadata": {},
   "outputs": [],
   "source": [
    "probability_approx = (np.sum(f_x)*step_size)/(interval[1] - interval[0])"
   ]
  },
  {
   "cell_type": "code",
   "execution_count": 104,
   "id": "056c76a4",
   "metadata": {},
   "outputs": [
    {
     "name": "stdout",
     "output_type": "stream",
     "text": [
      "truth:  0.04861111111111116\n",
      "approximation:  0.04882565345105316\n",
      "Pretty good, huh!?\n"
     ]
    }
   ],
   "source": [
    "print('truth: ', probability_cdf) \n",
    "print('approximation: ', probability_approx) \n",
    "print('Pretty good, huh!?')"
   ]
  },
  {
   "cell_type": "code",
   "execution_count": null,
   "id": "8fda3511",
   "metadata": {},
   "outputs": [],
   "source": []
  },
  {
   "cell_type": "code",
   "execution_count": null,
   "id": "889f7990",
   "metadata": {},
   "outputs": [],
   "source": []
  }
 ],
 "metadata": {
  "kernelspec": {
   "display_name": "Python 3",
   "language": "python",
   "name": "python3"
  },
  "language_info": {
   "codemirror_mode": {
    "name": "ipython",
    "version": 3
   },
   "file_extension": ".py",
   "mimetype": "text/x-python",
   "name": "python",
   "nbconvert_exporter": "python",
   "pygments_lexer": "ipython3",
   "version": "3.7.10"
  }
 },
 "nbformat": 4,
 "nbformat_minor": 5
}
