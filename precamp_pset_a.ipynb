{
 "cells": [
  {
   "cell_type": "markdown",
   "id": "bcb1422e",
   "metadata": {},
   "source": [
    "# Pre-camp problem set\n",
    "---\n",
    "\n",
    "---\n",
    "\n",
    "This notebook is designed to help you practice coding in Python before programming camp. It follows the same structure of the Matlab problem set. \n",
    "\n",
    "Lets first import some packages that we will use. "
   ]
  },
  {
   "cell_type": "code",
   "execution_count": 1,
   "id": "55495209",
   "metadata": {},
   "outputs": [],
   "source": [
    "import numpy as np\n",
    "import time\n",
    "import matplotlib.pyplot as plt\n",
    "from numba import njit"
   ]
  },
  {
   "cell_type": "markdown",
   "id": "5aa47377",
   "metadata": {},
   "source": [
    "## Fibonacci Numbers\n",
    "We want to write a function that exhibits the following properties:\n",
    "$$\n",
    "\\begin{eqnarray}\n",
    "f(1) &=& 1 \\\\\\\n",
    "f(2) &=& 1 \\\\\\\n",
    "f(n) &=& f(n-1) + f(n-1)\n",
    "\\end{eqnarray}\n",
    "$$\n",
    "\n",
    "---\n",
    "### Q1. A recursive function\n",
    "**(a)** Write a function *fiborecursion* that computes f(n) recursively. \n",
    "\n",
    "The algorithm is: .\n",
    "\n",
    "    if n<=2:\n",
    "        fib = 1\n",
    "    else:\n",
    "        fib = fiborecursion(n-1) + fiborecursion(n-1)\n",
    "    return fub\n"
   ]
  },
  {
   "cell_type": "code",
   "execution_count": 2,
   "id": "6b007c7f",
   "metadata": {},
   "outputs": [],
   "source": []
  },
  {
   "cell_type": "markdown",
   "id": "2f872b9c",
   "metadata": {},
   "source": [
    "**(b)** Use your function to compute and print the first ten numbers of the sequence. \n",
    "\n",
    "*Note:* \n",
    "1. Python starts indexing at 0, so to go from f(1) to f(10) we need to tell it to go to index 11. Use ``for i in range(1,11):``\n"
   ]
  },
  {
   "cell_type": "code",
   "execution_count": null,
   "id": "ccb14da3",
   "metadata": {},
   "outputs": [],
   "source": []
  },
  {
   "cell_type": "markdown",
   "id": "2152efa5",
   "metadata": {},
   "source": []
  },
  {
   "cell_type": "markdown",
   "id": "3ce990aa",
   "metadata": {},
   "source": [
    "--- \n",
    "### Q2. A loop based function\n",
    "The previous function written very explicitly, and is easy to read. The only issue here is that, to evaluate fiborecursion(n), you need to first figure out fiborecursion(m) for all m<n first, which could be very slow. As a result, an alternative way of writing it is required.\n",
    "\n",
    "**(a)** Write the same function using a loop. Print the first ten numbers in the sequence. \n",
    "\n",
    "The algorithm is \n",
    "\n",
    "    if m <=2:\n",
    "        fib = 1\n",
    "    else: \n",
    "        fib = 1\n",
    "        fibprev = 1\n",
    "        \n",
    "        for i in range (3, m+1):\n",
    "            temp = fib\n",
    "            fib = fib + fibprev\n",
    "            fibprev = temp\n",
    "    return fib"
   ]
  },
  {
   "cell_type": "code",
   "execution_count": 19,
   "id": "d5fb8fbb",
   "metadata": {},
   "outputs": [],
   "source": [
    "#add function here"
   ]
  },
  {
   "cell_type": "code",
   "execution_count": 20,
   "id": "a8c0844f",
   "metadata": {},
   "outputs": [],
   "source": [
    "#print here"
   ]
  },
  {
   "cell_type": "markdown",
   "id": "9f3724d2",
   "metadata": {},
   "source": [
    "---\n",
    "## Q3. Timing and plotting.\n",
    "Now lets time your functions. \n",
    "\n",
    "**(a)**\n",
    "1. Initialize a vector to store times using ``np.zeros(T)``\n",
    "2. Write a loop that computes f(n) up to n=30 \n",
    "3. Store the time taken using `` start[i]= time.time()`` to start and ``end[i] = time.time() - start[i]``\n",
    "4. Plot the times up to n=30 for each function using ``plt.plot(x,y)``"
   ]
  },
  {
   "cell_type": "code",
   "execution_count": null,
   "id": "73ff07e0",
   "metadata": {},
   "outputs": [],
   "source": []
  },
  {
   "cell_type": "code",
   "execution_count": null,
   "id": "086e3e05",
   "metadata": {},
   "outputs": [],
   "source": []
  },
  {
   "cell_type": "markdown",
   "id": "6ffce7c1",
   "metadata": {},
   "source": [
    "While ``plt.plot()`` can make a plot quickly, it will not be very clear or readable. \n",
    "\n",
    "**(b)** Make your plot look good:\n",
    "1. Pick some nice colors for the lines, and make one of them dashed;\n",
    "2. Add axis labels, e.g. using ``plt.ylabel()``\n",
    "3. Add labels to your lines ``plt.plot(x,y, label = \"This is a label\")``, and show them with a legend ``plt.legend()``\n",
    "4. Increase the font and line size on everything, ``linewidth=3`, ``fontsize = 18``\n",
    "5. Check out more options and ideas at the Matplotlib website, [here](https://matplotlib.org/stable/api/_as_gen/matplotlib.pyplot.plot.html) and [there](https://matplotlib.org/stable/gallery/index.html)."
   ]
  },
  {
   "cell_type": "code",
   "execution_count": null,
   "id": "1d809df4",
   "metadata": {},
   "outputs": [],
   "source": []
  },
  {
   "cell_type": "markdown",
   "id": "45ba431d",
   "metadata": {},
   "source": [
    "## Q4. Why is one function faster than the other?\n",
    "\n",
    "(This is your chance to use a Markdown cell to write some text!)\n"
   ]
  },
  {
   "cell_type": "code",
   "execution_count": null,
   "id": "3c7b38af",
   "metadata": {},
   "outputs": [],
   "source": []
  },
  {
   "cell_type": "markdown",
   "id": "82d1185a",
   "metadata": {},
   "source": [
    "# Bonus: going even faster\n",
    "Python is an interpreted language. Each time an interpreted program is run, the interpreter must convert source code into machine code before it is run. This can be really helpful because the python interpreter does lots of work that might need to be done by the programmer in other languages (such as keeping track of varaible types).\n",
    "\n",
    "But, this can make Python pretty slow. Luckily this is where numba can help. By adding the a numba *decorator* to a function, Numba will convert this function to machine code and store it. The first run will have an initial set-up cost, but then every other run will be alot faster. \n",
    "\n",
    "**(a)** Adapt your ``fiboloop`` function to add the ``@njit'' decorator. \n",
    "\n",
    "    @njit\n",
    "    def fiboloop_numba(m):\n",
    "        #Same code as before"
   ]
  },
  {
   "cell_type": "code",
   "execution_count": null,
   "id": "b7946064",
   "metadata": {},
   "outputs": [],
   "source": []
  },
  {
   "cell_type": "markdown",
   "id": "dc285a99",
   "metadata": {},
   "source": [
    "Your functions will be so fast that the previous timing loop will not detect much of a difference on one iteration. The function ``%timeit`` will run many loops to time your functions. \n",
    "\n",
    "**(b)** Time both your loop based functions using ``%timeit``. How big is the numba speedup?\n",
    "\n",
    "    %timeit fiboloop(1000)\n",
    "    \n",
    "*Note:* ns (nanoseconds) and us (microseconds) and ms (milisecond) are 10-9 and 10-6 and 10-3 (0.001) seconds respectively."
   ]
  },
  {
   "cell_type": "code",
   "execution_count": null,
   "id": "0b9a1327",
   "metadata": {},
   "outputs": [],
   "source": []
  },
  {
   "cell_type": "code",
   "execution_count": null,
   "id": "46260e09",
   "metadata": {},
   "outputs": [],
   "source": []
  },
  {
   "cell_type": "code",
   "execution_count": null,
   "id": "92539283",
   "metadata": {},
   "outputs": [],
   "source": []
  },
  {
   "cell_type": "code",
   "execution_count": null,
   "id": "6935fae4",
   "metadata": {},
   "outputs": [],
   "source": []
  }
 ],
 "metadata": {
  "kernelspec": {
   "display_name": "Python 3",
   "language": "python",
   "name": "python3"
  },
  "language_info": {
   "codemirror_mode": {
    "name": "ipython",
    "version": 3
   },
   "file_extension": ".py",
   "mimetype": "text/x-python",
   "name": "python",
   "nbconvert_exporter": "python",
   "pygments_lexer": "ipython3",
   "version": "3.7.10"
  }
 },
 "nbformat": 4,
 "nbformat_minor": 5
}
