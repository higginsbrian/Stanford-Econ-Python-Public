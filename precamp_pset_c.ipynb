{
 "cells": [
  {
   "cell_type": "markdown",
   "id": "e36a248c",
   "metadata": {},
   "source": [
    "# Pareto Distributions\n",
    "Let’s consider the following distribution:\n",
    "\\begin{eqnarray}\n",
    "F_X(x) &= 1-\\frac{x_m}{x}^\\alpha \\quad &\\text{if}  \\quad  x \\geq x_m \\\\\\\n",
    " &0 \\quad  &\\text{if}  \\quad  x < x_m\n",
    "\\end{eqnarray}\n",
    "\\begin{eqnarray}\n",
    "f_X(x) &= \\frac{\\alpha x_m^\\alpha}{x^{\\alpha +1}} \\quad &\\text{if}  \\quad  x \\geq x_m \\\\\\\n",
    " &0 \\quad  &\\text{if}  \\quad  x < x_m\n",
    "\\end{eqnarray}\n",
    "\n",
    "### EXERCISES\n",
    "1. Write a function for the Pareto PDF ($\\alpha = 2$; $x_m = 1$), call it paretopdf.\n",
    "2. Write a function for the Pareto CDF, call it paretocdf.\n",
    "3. Plot the Pareto PDF\n",
    "4. Define a grid x that covers (3,4), with step size d.\n",
    "5. Evaluate Pareto density on x, store as fx.\n",
    "6. Using the grid from 4., and fx, figure out a way to approximate the likelihood of the Pareto distributed random variable to lie within $[3,4]$.\n"
   ]
  },
  {
   "cell_type": "code",
   "execution_count": null,
   "id": "ea43b86b",
   "metadata": {},
   "outputs": [],
   "source": []
  }
 ],
 "metadata": {
  "kernelspec": {
   "display_name": "Python 3",
   "language": "python",
   "name": "python3"
  },
  "language_info": {
   "codemirror_mode": {
    "name": "ipython",
    "version": 3
   },
   "file_extension": ".py",
   "mimetype": "text/x-python",
   "name": "python",
   "nbconvert_exporter": "python",
   "pygments_lexer": "ipython3",
   "version": "3.7.10"
  }
 },
 "nbformat": 4,
 "nbformat_minor": 5
}
