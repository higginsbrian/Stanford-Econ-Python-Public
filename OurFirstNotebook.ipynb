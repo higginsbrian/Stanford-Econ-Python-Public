{
 "cells": [
  {
   "cell_type": "markdown",
   "id": "347defa9",
   "metadata": {},
   "source": [
    "# Welcome to your first Jupyter notebook\n",
    "\n",
    "This notebook is made up of a bunch of cells. The buttons at the top let you add, remove, run cells. \n",
    "\n",
    "This is a **Markdown cell** where we can write text and math using some Latex functionality like $ Y = C + I + G + (X-M) $.\n",
    "\n",
    "Double click on the cell to edit. Use `Shift + Enter` to run it. \n",
    "\n",
    "---\n",
    "What cover: \n",
    "1. [Python basics](#Python-basics)\n",
    "2. [Numerical basics](#Numpy:-numerical-python);\n",
    "3. [Functions](#Defining-functions); \n",
    "4. [Flow control: Loops, If statements](#Flow-control); and\n",
    "5. [Plotting](#Plotting).\n",
    "\n",
    "---\n",
    "# Python basics\n",
    "Let's get started with python. \n",
    "\n",
    "We build off Quantecon's cheatsheets for [Python](https://cheatsheets.quantecon.org/python-cheatsheet.html); and [Python vs Matlab vs Julia](https://cheatsheets.quantecon.org/)."
   ]
  },
  {
   "cell_type": "code",
   "execution_count": null,
   "id": "2d1a6ed9",
   "metadata": {},
   "outputs": [],
   "source": [
    "print(\"Hello World\")"
   ]
  },
  {
   "cell_type": "code",
   "execution_count": null,
   "id": "2b3bdece",
   "metadata": {},
   "outputs": [],
   "source": [
    "5+5"
   ]
  },
  {
   "cell_type": "markdown",
   "id": "870b6074",
   "metadata": {},
   "source": [
    "We can create variables and do some operations: addition `+`, subtraction `-`, multiplications `*` and division `/`. "
   ]
  },
  {
   "cell_type": "code",
   "execution_count": null,
   "id": "db60e99a",
   "metadata": {},
   "outputs": [],
   "source": [
    "#this is a comment\n",
    "x = 10 \n",
    "y = 20\n",
    "z = x + y\n",
    "print(z)"
   ]
  },
  {
   "cell_type": "code",
   "execution_count": null,
   "id": "9b71fd9f",
   "metadata": {},
   "outputs": [],
   "source": [
    "q = z-10\n",
    "print(q)"
   ]
  },
  {
   "cell_type": "code",
   "execution_count": null,
   "id": "66bee5b8",
   "metadata": {},
   "outputs": [],
   "source": [
    "a = y/x\n",
    "print(a)"
   ]
  },
  {
   "cell_type": "code",
   "execution_count": null,
   "id": "9f4d0c56",
   "metadata": {},
   "outputs": [],
   "source": [
    "b = y * x\n",
    "print(b)"
   ]
  },
  {
   "cell_type": "code",
   "execution_count": null,
   "id": "118fd22d",
   "metadata": {},
   "outputs": [],
   "source": [
    "x_squared = x**2\n",
    "print(x_squared)\n",
    "x_cubed = x**3\n",
    "print(x_cubed)"
   ]
  },
  {
   "cell_type": "code",
   "execution_count": null,
   "id": "cdec77c0",
   "metadata": {},
   "outputs": [],
   "source": [
    "import math\n",
    "math.exp(x)"
   ]
  },
  {
   "cell_type": "code",
   "execution_count": null,
   "id": "29c766ed",
   "metadata": {},
   "outputs": [],
   "source": [
    "math.exp(x)"
   ]
  },
  {
   "cell_type": "markdown",
   "id": "a32456be",
   "metadata": {},
   "source": [
    "# Numpy: numerical python\n",
    "For lots of our work we will use vectors and matrices. Numpy is the toolbox for this, and you google Numpy and *question* to find out how to do something. \n",
    "\n",
    "First we need to import numpy. It is standard to shorten it to np. "
   ]
  },
  {
   "cell_type": "code",
   "execution_count": null,
   "id": "7c5a7998",
   "metadata": {},
   "outputs": [],
   "source": [
    "import numpy as np"
   ]
  },
  {
   "cell_type": "markdown",
   "id": "75b2591c",
   "metadata": {},
   "source": [
    "### Initializing vectors\n",
    "Lets make some matrices, do some operations, and check their dimensions.  "
   ]
  },
  {
   "cell_type": "code",
   "execution_count": null,
   "id": "2dfe9e46",
   "metadata": {},
   "outputs": [],
   "source": [
    "x_array = np.array([1,2,3,4])\n",
    "print('1-D array: ', x_array)\n",
    "\n",
    "x_matrix = np.array([[1,2],[3,4]])\n",
    "print('2-D array/matrix: ')\n",
    "print(x_matrix)"
   ]
  },
  {
   "cell_type": "code",
   "execution_count": null,
   "id": "d33aea5d",
   "metadata": {},
   "outputs": [],
   "source": [
    "x_array*4"
   ]
  },
  {
   "cell_type": "markdown",
   "id": "1d4af4f6",
   "metadata": {},
   "source": [
    "### Applying operations to vectors\n",
    "Numpy is set up to apply operations to each element of a vector. We can get the log of an array. "
   ]
  },
  {
   "cell_type": "code",
   "execution_count": null,
   "id": "a966662e",
   "metadata": {},
   "outputs": [],
   "source": [
    "#natual logarithm\n",
    "np.log(x_array)"
   ]
  },
  {
   "cell_type": "code",
   "execution_count": null,
   "id": "607f73f4",
   "metadata": {},
   "outputs": [],
   "source": []
  },
  {
   "cell_type": "markdown",
   "id": "3c6916be",
   "metadata": {},
   "source": [
    "### Matrix multiplitcation\n",
    "Let's create matrices A and B with dimension (1,3) and (3,1). We can check their dimensions with np.shape()\n",
    "\n",
    "The we will use the `@` symbol to multiply the matrices: A@B\n",
    "\n",
    "If we want to multiply the matrices *elementwise*, then we use `**`. For instance to square a matrix we use D**D. "
   ]
  },
  {
   "cell_type": "code",
   "execution_count": null,
   "id": "59bb7bb3",
   "metadata": {},
   "outputs": [],
   "source": [
    "# create A and B and check their shape\n",
    "A = np.array([[1, 2, 3]])\n",
    "print('A dimensions:', np.shape(A))\n",
    "B = np.array([[3], [2], [1]])\n",
    "print('B dimensions:', np.shape(B))\n"
   ]
  },
  {
   "cell_type": "code",
   "execution_count": null,
   "id": "38a81cba",
   "metadata": {},
   "outputs": [],
   "source": [
    "C= A @ B\n",
    "print(C)"
   ]
  },
  {
   "cell_type": "code",
   "execution_count": null,
   "id": "87a8ca50",
   "metadata": {},
   "outputs": [],
   "source": [
    "D = B @ A\n",
    "print(D)"
   ]
  },
  {
   "cell_type": "code",
   "execution_count": null,
   "id": "9c74d14f",
   "metadata": {},
   "outputs": [],
   "source": [
    "#squaring elementwise\n",
    "D**2"
   ]
  },
  {
   "cell_type": "markdown",
   "id": "ab283308",
   "metadata": {},
   "source": [
    "### Matrix indexing\n",
    "We use square brackets to index matrices. Importantly, Python indexing starts at zero! "
   ]
  },
  {
   "cell_type": "code",
   "execution_count": null,
   "id": "425dd5d4",
   "metadata": {},
   "outputs": [],
   "source": [
    "print(\"D: \")\n",
    "print(D)\n",
    "print(\" \")\n",
    "\n",
    "print(\"(D[0,0]: \")\n",
    "print(D[0,0])\n",
    "print(\" \")\n",
    "\n",
    "print(\"D[1,2]: \")\n",
    "print(D[1,2])"
   ]
  },
  {
   "cell_type": "code",
   "execution_count": null,
   "id": "78aa2004",
   "metadata": {},
   "outputs": [],
   "source": []
  },
  {
   "cell_type": "markdown",
   "id": "2088b152",
   "metadata": {},
   "source": [
    "### Other useful numpy operations"
   ]
  },
  {
   "cell_type": "code",
   "execution_count": null,
   "id": "b387ebb3",
   "metadata": {},
   "outputs": [],
   "source": [
    "# find max \n",
    "np.max(D)"
   ]
  },
  {
   "cell_type": "code",
   "execution_count": null,
   "id": "9d5bce7e",
   "metadata": {},
   "outputs": [],
   "source": [
    "# find max along a dimention (axis=0 finds the max down each column. )\n",
    "np.max(D,axis = 0)"
   ]
  },
  {
   "cell_type": "code",
   "execution_count": null,
   "id": "31d05e08",
   "metadata": {},
   "outputs": [],
   "source": [
    "# arg max tell us these are the first element in each row\n",
    "np.argmax(D,axis = 0)"
   ]
  },
  {
   "cell_type": "markdown",
   "id": "eabce1cf",
   "metadata": {},
   "source": [
    "### Setting up a grid"
   ]
  },
  {
   "cell_type": "code",
   "execution_count": null,
   "id": "20d31645",
   "metadata": {},
   "outputs": [],
   "source": [
    "#arrange returns a vector increase by one in each element\n",
    "np.arange(10)"
   ]
  },
  {
   "cell_type": "code",
   "execution_count": null,
   "id": "194dd193",
   "metadata": {},
   "outputs": [],
   "source": [
    "#linspace returns equi spaced\n",
    "start =0.1\n",
    "stop = 20\n",
    "num = 9\n",
    "np.linspace(start, stop, num)"
   ]
  },
  {
   "cell_type": "code",
   "execution_count": null,
   "id": "6900a405",
   "metadata": {},
   "outputs": [],
   "source": [
    "#geo space returns log space (so we get more points closer to the starting value!)\n",
    "start =0.1\n",
    "stop = 20\n",
    "num = 9\n",
    "np.round(np.geomspace(start, stop, num),1)"
   ]
  },
  {
   "cell_type": "markdown",
   "id": "7fc6a244",
   "metadata": {},
   "source": [
    "# Defining functions\n",
    "Python functions take the form:\n",
    "\n",
    "    def function_name(input):\n",
    "        output = input*2\n",
    "        return output    \n",
    "\n",
    "\n",
    "Note that we need to use white space to indent the operations inside the function. We also tell python what to return via return.  \n",
    "\n",
    "Lets write a function that squares an input."
   ]
  },
  {
   "cell_type": "code",
   "execution_count": null,
   "id": "4867d3da",
   "metadata": {},
   "outputs": [],
   "source": [
    "def square(x):\n",
    "    return x**2"
   ]
  },
  {
   "cell_type": "code",
   "execution_count": null,
   "id": "e0d71459",
   "metadata": {},
   "outputs": [],
   "source": [
    "square(4)"
   ]
  },
  {
   "cell_type": "code",
   "execution_count": null,
   "id": "36eb75c2",
   "metadata": {},
   "outputs": [],
   "source": [
    "# a function can take many inputs and outputs\n",
    "def square_twoinputs(x,y):\n",
    "    xsquared = x**2\n",
    "    ysquared = y**2\n",
    "    return xsquared, ysquared"
   ]
  },
  {
   "cell_type": "code",
   "execution_count": null,
   "id": "4b16bda5",
   "metadata": {},
   "outputs": [],
   "source": [
    "result1, result2 = square_twoinputs(2,4)\n",
    "print(result1, result2 )"
   ]
  },
  {
   "cell_type": "markdown",
   "id": "c730eacf",
   "metadata": {},
   "source": [
    "# Flow control\n",
    "### Loops\n",
    "We can write for and while loops. (note indexing again starts at 0)"
   ]
  },
  {
   "cell_type": "code",
   "execution_count": null,
   "id": "8a6a022f",
   "metadata": {},
   "outputs": [],
   "source": [
    "for i in range(3):\n",
    "    print(i)"
   ]
  },
  {
   "cell_type": "code",
   "execution_count": null,
   "id": "37a729e0",
   "metadata": {},
   "outputs": [],
   "source": [
    "i=0\n",
    "while i<3:\n",
    "    print(i)\n",
    "    i = i+1"
   ]
  },
  {
   "cell_type": "markdown",
   "id": "5095e62d",
   "metadata": {},
   "source": [
    "### If and else statements"
   ]
  },
  {
   "cell_type": "code",
   "execution_count": null,
   "id": "572c6aad",
   "metadata": {},
   "outputs": [],
   "source": [
    "x  = 3\n",
    "if x > 2:\n",
    "    print('x is greater than 2')\n",
    "elif x<2: \n",
    "    print('x is less than 2')\n",
    "elif x==2:\n",
    "    print('x is equal to 2')\n",
    "else:\n",
    "    print('Warning, the if statements did not cover all cases')"
   ]
  },
  {
   "cell_type": "markdown",
   "id": "4005e98e",
   "metadata": {},
   "source": [
    "# Plotting\n",
    "We can do a basic plot using matplotlib.pyplot. Lets import it. "
   ]
  },
  {
   "cell_type": "code",
   "execution_count": null,
   "id": "876840d5",
   "metadata": {},
   "outputs": [],
   "source": [
    "import matplotlib.pyplot as plt"
   ]
  },
  {
   "cell_type": "code",
   "execution_count": null,
   "id": "dbc587f2",
   "metadata": {},
   "outputs": [],
   "source": [
    "# create a grid forx\n",
    "start =0.1\n",
    "stop = 20\n",
    "num = 9\n",
    "x = np.linspace(start, stop, num)"
   ]
  },
  {
   "cell_type": "code",
   "execution_count": null,
   "id": "c1867b85",
   "metadata": {},
   "outputs": [],
   "source": [
    "#lets use our square function\n",
    "xsquared = square(x)"
   ]
  },
  {
   "cell_type": "code",
   "execution_count": null,
   "id": "4f53ba08",
   "metadata": {},
   "outputs": [],
   "source": [
    "# a basic figure\n",
    "plt.plot(x,xsquared)"
   ]
  },
  {
   "cell_type": "markdown",
   "id": "05d32a61",
   "metadata": {},
   "source": [
    "That plot isn't very good looking: the line is small;what are the axis? We can do much better. "
   ]
  },
  {
   "cell_type": "code",
   "execution_count": null,
   "id": "844ec3dd",
   "metadata": {},
   "outputs": [],
   "source": [
    "plt.figure(figsize=(12,9))\n",
    "plt.title('x squared', fontsize = 18)\n",
    "plt.plot(x,xsquared, color= 'black', linestyle ='-', linewidth=3, label = \"x^2\", )\n",
    "plt.ylabel('x^2', fontsize =18)\n",
    "plt.xlabel('x', fontsize = 18)\n",
    "plt.xticks( fontsize = 18)\n",
    "plt.yticks( fontsize = 18)\n",
    "plt.legend( fontsize = 18)\n"
   ]
  },
  {
   "cell_type": "markdown",
   "id": "5c29791b",
   "metadata": {},
   "source": [
    "# More Python tools\n",
    "Python has many more tools, which are often best learned when we have a problem at hand. We will learn to use some more of them throughout the problem sets and progrmaming camp. In the meantime here's a list of some useful libraries that you can refer to. You can read the docs (and use google) to see what they can do.\n",
    "- **scipy** - scientific python\n",
    "- **scipy.optimize** - scientific python's optimization toolbox (use it to minimise a function)\n",
    "- **scipy.stats** - scientific python's statistical toolbox (use it to draw from a distribution)\n",
    "- **pandas** - dataframes (use it like a Stata dataset)\n",
    "- **scikit-learn** - machine learning tools (use it for clustering, classification, regression)"
   ]
  },
  {
   "cell_type": "code",
   "execution_count": null,
   "id": "45315b72",
   "metadata": {},
   "outputs": [],
   "source": []
  }
 ],
 "metadata": {
  "kernelspec": {
   "display_name": "Python 3",
   "language": "python",
   "name": "python3"
  },
  "language_info": {
   "codemirror_mode": {
    "name": "ipython",
    "version": 3
   },
   "file_extension": ".py",
   "mimetype": "text/x-python",
   "name": "python",
   "nbconvert_exporter": "python",
   "pygments_lexer": "ipython3",
   "version": "3.7.10"
  }
 },
 "nbformat": 4,
 "nbformat_minor": 5
}
