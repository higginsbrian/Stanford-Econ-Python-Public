{
 "cells": [
  {
   "cell_type": "markdown",
   "id": "47c743ac",
   "metadata": {},
   "source": [
    "# Welcome to your first Jupyter notebook\n",
    "\n",
    "This notebook is made up of a bunch of cells. The buttons at the top let you add, remove, run cells. \n",
    "\n",
    "This is a **Markdown cell** where we can write text and math using some Latex functionality like $ Y = C + I + G + (X-M) $.\n",
    "\n",
    "Double click on the cell to edit. Use `Shift + Enter` to run it. \n",
    "\n",
    "---\n",
    "What cover: \n",
    "1. [Python basics](#Python-basics)\n",
    "2. [Numerical basics](#Numpy:-numerical-python);\n",
    "3. [Functions](#Defining-functions); \n",
    "4. [Flow control: Loops, If statements](#Flow-control); and\n",
    "5. [Plotting](#Plotting).\n",
    "\n",
    "---\n",
    "# Python basics\n",
    "Let's get started with python. \n",
    "\n",
    "We build off Quantecon's cheatsheets for [Python](https://cheatsheets.quantecon.org/python-cheatsheet.html); and [Python vs Matlab vs Julia](https://cheatsheets.quantecon.org/)."
   ]
  },
  {
   "cell_type": "code",
   "execution_count": 1,
   "id": "c8004f77",
   "metadata": {},
   "outputs": [
    {
     "name": "stdout",
     "output_type": "stream",
     "text": [
      "Hello World\n"
     ]
    }
   ],
   "source": [
    "print(\"Hello World\")"
   ]
  },
  {
   "cell_type": "code",
   "execution_count": 2,
   "id": "62e0e2b4",
   "metadata": {},
   "outputs": [
    {
     "data": {
      "text/plain": [
       "10"
      ]
     },
     "execution_count": 2,
     "metadata": {},
     "output_type": "execute_result"
    }
   ],
   "source": [
    "5+5"
   ]
  },
  {
   "cell_type": "markdown",
   "id": "1b65ce96",
   "metadata": {},
   "source": [
    "We can create variables and do some operations: addition `+`, subtraction `-`, multiplications `*` and division `/`. "
   ]
  },
  {
   "cell_type": "code",
   "execution_count": 3,
   "id": "396da802",
   "metadata": {},
   "outputs": [
    {
     "name": "stdout",
     "output_type": "stream",
     "text": [
      "30\n"
     ]
    }
   ],
   "source": [
    "#this is a comment\n",
    "x = 10 \n",
    "y = 20\n",
    "z = x + y\n",
    "print(z)"
   ]
  },
  {
   "cell_type": "code",
   "execution_count": 4,
   "id": "32e964c8",
   "metadata": {},
   "outputs": [
    {
     "name": "stdout",
     "output_type": "stream",
     "text": [
      "20\n"
     ]
    }
   ],
   "source": [
    "q = z-10\n",
    "print(q)"
   ]
  },
  {
   "cell_type": "code",
   "execution_count": 5,
   "id": "3e6c9e0b",
   "metadata": {},
   "outputs": [
    {
     "name": "stdout",
     "output_type": "stream",
     "text": [
      "2.0\n"
     ]
    }
   ],
   "source": [
    "a = y/x\n",
    "print(a)"
   ]
  },
  {
   "cell_type": "code",
   "execution_count": 6,
   "id": "fd03ccbd",
   "metadata": {},
   "outputs": [
    {
     "name": "stdout",
     "output_type": "stream",
     "text": [
      "200\n"
     ]
    }
   ],
   "source": [
    "b = y * x\n",
    "print(b)"
   ]
  },
  {
   "cell_type": "code",
   "execution_count": 7,
   "id": "efbe12f0",
   "metadata": {},
   "outputs": [
    {
     "name": "stdout",
     "output_type": "stream",
     "text": [
      "100\n",
      "1000\n"
     ]
    }
   ],
   "source": [
    "x_squared = x**2\n",
    "print(x_squared)\n",
    "x_cubed = x**3\n",
    "print(x_cubed)"
   ]
  },
  {
   "cell_type": "code",
   "execution_count": 8,
   "id": "a4615af4",
   "metadata": {},
   "outputs": [
    {
     "data": {
      "text/plain": [
       "22026.465794806718"
      ]
     },
     "execution_count": 8,
     "metadata": {},
     "output_type": "execute_result"
    }
   ],
   "source": [
    "import math\n",
    "math.exp(x)"
   ]
  },
  {
   "cell_type": "code",
   "execution_count": 9,
   "id": "8af3532b",
   "metadata": {},
   "outputs": [
    {
     "data": {
      "text/plain": [
       "22026.465794806718"
      ]
     },
     "execution_count": 9,
     "metadata": {},
     "output_type": "execute_result"
    }
   ],
   "source": [
    "math.exp(x)"
   ]
  },
  {
   "cell_type": "markdown",
   "id": "309f66e1",
   "metadata": {},
   "source": [
    "# Numpy: numerical python\n",
    "For lots of our work we will use vectors and matrices. Numpy is the toolbox for this, and you google Numpy and *question* to find out how to do something. \n",
    "\n",
    "First we need to import numpy. It is standard to shorten it to np. "
   ]
  },
  {
   "cell_type": "code",
   "execution_count": 12,
   "id": "96fe3c01",
   "metadata": {},
   "outputs": [],
   "source": [
    "import numpy as np"
   ]
  },
  {
   "cell_type": "markdown",
   "id": "bd85a406",
   "metadata": {},
   "source": [
    "### Initializing vectors\n",
    "Lets make some matrices, do some operations, and check their dimensions.  "
   ]
  },
  {
   "cell_type": "code",
   "execution_count": 11,
   "id": "5b4166db",
   "metadata": {},
   "outputs": [
    {
     "name": "stdout",
     "output_type": "stream",
     "text": [
      "1-D array:  [1 2 3 4]\n",
      "2-D array/matrix: \n",
      "[[1 2]\n",
      " [3 4]]\n"
     ]
    }
   ],
   "source": [
    "x_array = np.array([1,2,3,4])\n",
    "print('1-D array: ', x_array)\n",
    "\n",
    "x_matrix = np.array([[1,2],[3,4]])\n",
    "print('2-D array/matrix: ')\n",
    "print(x_matrix)"
   ]
  },
  {
   "cell_type": "code",
   "execution_count": 12,
   "id": "df0a3d20",
   "metadata": {},
   "outputs": [
    {
     "data": {
      "text/plain": [
       "array([ 4,  8, 12, 16])"
      ]
     },
     "execution_count": 12,
     "metadata": {},
     "output_type": "execute_result"
    }
   ],
   "source": [
    "x_array*4"
   ]
  },
  {
   "cell_type": "markdown",
   "id": "26e82ff9",
   "metadata": {},
   "source": [
    "### Applying operations to vectors\n",
    "Numpy is set up to apply operations to each element of a vector. We can get the log of an array. "
   ]
  },
  {
   "cell_type": "code",
   "execution_count": 13,
   "id": "321f4454",
   "metadata": {},
   "outputs": [
    {
     "data": {
      "text/plain": [
       "array([0.        , 0.69314718, 1.09861229, 1.38629436])"
      ]
     },
     "execution_count": 13,
     "metadata": {},
     "output_type": "execute_result"
    }
   ],
   "source": [
    "#natual logarithm\n",
    "np.log(x_array)"
   ]
  },
  {
   "cell_type": "code",
   "execution_count": null,
   "id": "a14e7890",
   "metadata": {},
   "outputs": [],
   "source": []
  },
  {
   "cell_type": "markdown",
   "id": "7c000c54",
   "metadata": {},
   "source": [
    "### Matrix multiplitcation\n",
    "Let's create matrices A and B with dimension (1,3) and (3,1). We can check their dimensions with np.shape()\n",
    "\n",
    "The we will use the `@` symbol to multiply the matrices: A@B\n",
    "\n",
    "If we want to multiply the matrices *elementwise*, then we use `**`. For instance to square a matrix we use D**D. "
   ]
  },
  {
   "cell_type": "code",
   "execution_count": 14,
   "id": "390260d4",
   "metadata": {},
   "outputs": [
    {
     "name": "stdout",
     "output_type": "stream",
     "text": [
      "A dimensions: (1, 3)\n",
      "B dimensions: (3, 1)\n"
     ]
    }
   ],
   "source": [
    "# create A and B and check their shape\n",
    "A = np.array([[1, 2, 3]])\n",
    "print('A dimensions:', np.shape(A))\n",
    "B = np.array([[3], [2], [1]])\n",
    "print('B dimensions:', np.shape(B))\n"
   ]
  },
  {
   "cell_type": "code",
   "execution_count": 15,
   "id": "35dc13e7",
   "metadata": {},
   "outputs": [
    {
     "name": "stdout",
     "output_type": "stream",
     "text": [
      "[[10]]\n"
     ]
    }
   ],
   "source": [
    "C= A @ B\n",
    "print(C)"
   ]
  },
  {
   "cell_type": "code",
   "execution_count": 16,
   "id": "fa640011",
   "metadata": {},
   "outputs": [
    {
     "name": "stdout",
     "output_type": "stream",
     "text": [
      "[[3 6 9]\n",
      " [2 4 6]\n",
      " [1 2 3]]\n"
     ]
    }
   ],
   "source": [
    "D = B @ A\n",
    "print(D)"
   ]
  },
  {
   "cell_type": "code",
   "execution_count": 17,
   "id": "e726f3d5",
   "metadata": {},
   "outputs": [
    {
     "data": {
      "text/plain": [
       "array([[ 9, 36, 81],\n",
       "       [ 4, 16, 36],\n",
       "       [ 1,  4,  9]], dtype=int32)"
      ]
     },
     "execution_count": 17,
     "metadata": {},
     "output_type": "execute_result"
    }
   ],
   "source": [
    "#squaring elementwise\n",
    "D**2"
   ]
  },
  {
   "cell_type": "markdown",
   "id": "2004c36a",
   "metadata": {},
   "source": [
    "### Matrix indexing\n",
    "We use square brackets to index matrices. Importantly, Python indexing starts at zero! "
   ]
  },
  {
   "cell_type": "code",
   "execution_count": 18,
   "id": "72790563",
   "metadata": {},
   "outputs": [
    {
     "name": "stdout",
     "output_type": "stream",
     "text": [
      "D: \n",
      "[[3 6 9]\n",
      " [2 4 6]\n",
      " [1 2 3]]\n",
      " \n",
      "(D[0,0]: \n",
      "3\n",
      " \n",
      "D[1,2]: \n",
      "6\n"
     ]
    }
   ],
   "source": [
    "print(\"D: \")\n",
    "print(D)\n",
    "print(\" \")\n",
    "\n",
    "print(\"(D[0,0]: \")\n",
    "print(D[0,0])\n",
    "print(\" \")\n",
    "\n",
    "print(\"D[1,2]: \")\n",
    "print(D[1,2])"
   ]
  },
  {
   "cell_type": "code",
   "execution_count": null,
   "id": "87dc73f4",
   "metadata": {},
   "outputs": [],
   "source": []
  },
  {
   "cell_type": "markdown",
   "id": "25da9be0",
   "metadata": {},
   "source": [
    "### Other useful numpy operations"
   ]
  },
  {
   "cell_type": "code",
   "execution_count": 19,
   "id": "d63bed2e",
   "metadata": {},
   "outputs": [
    {
     "data": {
      "text/plain": [
       "9"
      ]
     },
     "execution_count": 19,
     "metadata": {},
     "output_type": "execute_result"
    }
   ],
   "source": [
    "# find max \n",
    "np.max(D)"
   ]
  },
  {
   "cell_type": "code",
   "execution_count": 20,
   "id": "63af768e",
   "metadata": {},
   "outputs": [
    {
     "data": {
      "text/plain": [
       "array([3, 6, 9])"
      ]
     },
     "execution_count": 20,
     "metadata": {},
     "output_type": "execute_result"
    }
   ],
   "source": [
    "# find max along a dimention (axis=0 finds the max down each column. )\n",
    "np.max(D,axis = 0)"
   ]
  },
  {
   "cell_type": "code",
   "execution_count": 21,
   "id": "9695cfd0",
   "metadata": {},
   "outputs": [
    {
     "data": {
      "text/plain": [
       "array([0, 0, 0], dtype=int64)"
      ]
     },
     "execution_count": 21,
     "metadata": {},
     "output_type": "execute_result"
    }
   ],
   "source": [
    "# arg max tell us these are the first element in each row\n",
    "np.argmax(D,axis = 0)"
   ]
  },
  {
   "cell_type": "markdown",
   "id": "b55af2ac",
   "metadata": {},
   "source": [
    "### Setting up a grid"
   ]
  },
  {
   "cell_type": "code",
   "execution_count": 22,
   "id": "a15a7bee",
   "metadata": {},
   "outputs": [
    {
     "data": {
      "text/plain": [
       "array([0, 1, 2, 3, 4, 5, 6, 7, 8, 9])"
      ]
     },
     "execution_count": 22,
     "metadata": {},
     "output_type": "execute_result"
    }
   ],
   "source": [
    "#arrange returns a vector increase by one in each element\n",
    "np.arange(10)"
   ]
  },
  {
   "cell_type": "code",
   "execution_count": 23,
   "id": "375781bb",
   "metadata": {},
   "outputs": [
    {
     "data": {
      "text/plain": [
       "array([ 0.1   ,  2.5875,  5.075 ,  7.5625, 10.05  , 12.5375, 15.025 ,\n",
       "       17.5125, 20.    ])"
      ]
     },
     "execution_count": 23,
     "metadata": {},
     "output_type": "execute_result"
    }
   ],
   "source": [
    "#linspace returns equi spaced\n",
    "start =0.1\n",
    "stop = 20\n",
    "num = 9\n",
    "np.linspace(start, stop, num)"
   ]
  },
  {
   "cell_type": "code",
   "execution_count": 24,
   "id": "47451b13",
   "metadata": {},
   "outputs": [
    {
     "data": {
      "text/plain": [
       "array([ 0.1,  0.2,  0.4,  0.7,  1.4,  2.7,  5.3, 10.3, 20. ])"
      ]
     },
     "execution_count": 24,
     "metadata": {},
     "output_type": "execute_result"
    }
   ],
   "source": [
    "#geo space returns log space (so we get more points closer to the starting value!)\n",
    "start =0.1\n",
    "stop = 20\n",
    "num = 9\n",
    "np.round(np.geomspace(start, stop, num),1)"
   ]
  },
  {
   "cell_type": "markdown",
   "id": "591c4758",
   "metadata": {},
   "source": [
    "# Defining functions\n",
    "Python functions take the form:\n",
    "\n",
    "    def function_name(input):\n",
    "        output = input*2\n",
    "        return output    \n",
    "\n",
    "\n",
    "Note that we need to use white space to indent the operations inside the function. We also tell python what to return via return.  \n",
    "\n",
    "Lets write a function that squares an input."
   ]
  },
  {
   "cell_type": "code",
   "execution_count": 2,
   "id": "527925a9",
   "metadata": {},
   "outputs": [],
   "source": [
    "def square(x):\n",
    "    return x**2"
   ]
  },
  {
   "cell_type": "code",
   "execution_count": 3,
   "id": "a8a722a6",
   "metadata": {},
   "outputs": [
    {
     "data": {
      "text/plain": [
       "16"
      ]
     },
     "execution_count": 3,
     "metadata": {},
     "output_type": "execute_result"
    }
   ],
   "source": [
    "square(4)"
   ]
  },
  {
   "cell_type": "code",
   "execution_count": 4,
   "id": "d46c14a9",
   "metadata": {},
   "outputs": [],
   "source": [
    "# a function can take many inputs and outputs\n",
    "def square_twoinputs(x,y):\n",
    "    xsquared = x**2\n",
    "    ysquared = y**2\n",
    "    return xsquared, ysquared"
   ]
  },
  {
   "cell_type": "code",
   "execution_count": 6,
   "id": "e8923a18",
   "metadata": {},
   "outputs": [
    {
     "name": "stdout",
     "output_type": "stream",
     "text": [
      "4 16\n"
     ]
    }
   ],
   "source": [
    "result1, result2 = square_twoinputs(2,4)\n",
    "print(result1, result2 )"
   ]
  },
  {
   "cell_type": "markdown",
   "id": "eac72560",
   "metadata": {},
   "source": [
    "# Flow control\n",
    "### Loops\n",
    "We can write for and while loops. (note indexing again starts at 0)"
   ]
  },
  {
   "cell_type": "code",
   "execution_count": 9,
   "id": "301f92a3",
   "metadata": {},
   "outputs": [
    {
     "name": "stdout",
     "output_type": "stream",
     "text": [
      "0\n",
      "1\n",
      "2\n"
     ]
    }
   ],
   "source": [
    "for i in range(3):\n",
    "    print(i)"
   ]
  },
  {
   "cell_type": "code",
   "execution_count": 8,
   "id": "c2acf662",
   "metadata": {},
   "outputs": [
    {
     "name": "stdout",
     "output_type": "stream",
     "text": [
      "0\n",
      "1\n",
      "2\n"
     ]
    }
   ],
   "source": [
    "i=0\n",
    "while i<3:\n",
    "    print(i)\n",
    "    i = i+1"
   ]
  },
  {
   "cell_type": "markdown",
   "id": "2a1fbc1e",
   "metadata": {},
   "source": [
    "### If and else statements"
   ]
  },
  {
   "cell_type": "code",
   "execution_count": 10,
   "id": "e957d2eb",
   "metadata": {},
   "outputs": [
    {
     "name": "stdout",
     "output_type": "stream",
     "text": [
      "x is greater than 2\n"
     ]
    }
   ],
   "source": [
    "x  = 3\n",
    "if x > 2:\n",
    "    print('x is greater than 2')\n",
    "elif x<2: \n",
    "    print('x is less than 2')\n",
    "elif x==2:\n",
    "    print('x is equal to 2')\n",
    "else:\n",
    "    print('Warning, the if statements did not cover all cases')"
   ]
  },
  {
   "cell_type": "markdown",
   "id": "8faa29e9",
   "metadata": {},
   "source": [
    "# Plotting\n",
    "We can do a basic plot using matplotlib.pyplot. Lets import it. "
   ]
  },
  {
   "cell_type": "code",
   "execution_count": 19,
   "id": "e6303ccf",
   "metadata": {},
   "outputs": [],
   "source": [
    "import matplotlib.pyplot as plt"
   ]
  },
  {
   "cell_type": "code",
   "execution_count": 16,
   "id": "91f2d527",
   "metadata": {},
   "outputs": [],
   "source": [
    "# create a grid forx\n",
    "start =0.1\n",
    "stop = 20\n",
    "num = 9\n",
    "x = np.linspace(start, stop, num)"
   ]
  },
  {
   "cell_type": "code",
   "execution_count": 17,
   "id": "d1bf7fb4",
   "metadata": {},
   "outputs": [],
   "source": [
    "#lets use our square function\n",
    "xsquared = square(x)"
   ]
  },
  {
   "cell_type": "code",
   "execution_count": 20,
   "id": "ba9c502a",
   "metadata": {},
   "outputs": [
    {
     "data": {
      "text/plain": [
       "[<matplotlib.lines.Line2D at 0x26458d5e648>]"
      ]
     },
     "execution_count": 20,
     "metadata": {},
     "output_type": "execute_result"
    },
    {
     "data": {
      "image/png": "[encoded data removed]",
      "text/plain": [
       "<Figure size 432x288 with 1 Axes>"
      ]
     },
     "metadata": {
      "needs_background": "light"
     },
     "output_type": "display_data"
    }
   ],
   "source": [
    "# a basic figure\n",
    "plt.plot(x,xsquared)"
   ]
  },
  {
   "cell_type": "markdown",
   "id": "15a698b8",
   "metadata": {},
   "source": [
    "That plot isn't very good looking: the line is small;what are the axis? We can do much better. "
   ]
  },
  {
   "cell_type": "code",
   "execution_count": 23,
   "id": "c8356a18",
   "metadata": {},
   "outputs": [
    {
     "data": {
      "text/plain": [
       "<matplotlib.legend.Legend at 0x264595b1dc8>"
      ]
     },
     "execution_count": 23,
     "metadata": {},
     "output_type": "execute_result"
    },
    {
     "data": {
      "image/png": "[encoded data removed]",
      "text/plain": [
       "<Figure size 864x648 with 1 Axes>"
      ]
     },
     "metadata": {
      "needs_background": "light"
     },
     "output_type": "display_data"
    }
   ],
   "source": [
    "plt.figure(figsize=(12,9))\n",
    "plt.title('x squared', fontsize = 18)\n",
    "plt.plot(x,xsquared, color= 'black', linestyle ='-', linewidth=3, label = \"x^2\", )\n",
    "plt.ylabel('x^2', fontsize =18)\n",
    "plt.xlabel('x', fontsize = 18)\n",
    "plt.xticks( fontsize = 18)\n",
    "plt.yticks( fontsize = 18)\n",
    "plt.legend( fontsize = 18)\n"
   ]
  },
  {
   "cell_type": "markdown",
   "id": "49e1895a",
   "metadata": {},
   "source": [
    "# More Python tools\n",
    "Python has many more tools, which are often best learned when we have a problem at hand. We will learn to use some more of them throughout the problem sets and progrmaming camp. In the meantime here's a list of some useful libraries that you can refer to. You can read the docs (and use google) to see what they can do.\n",
    "- **scipy** - scientific python\n",
    "- **scipy.optimize** - scientific python's optimization toolbox (use it to minimise a function)\n",
    "- **scipy.stats** - scientific python's statistical toolbox (use it to draw from a distribution)\n",
    "- **pandas** - dataframes (use it like a Stata dataset)\n",
    "- **scikit-learn** - machine learning tools (use it for clustering, classification, regression)"
   ]
  },
  {
   "cell_type": "code",
   "execution_count": null,
   "id": "bc3570e0",
   "metadata": {},
   "outputs": [],
   "source": []
  }
 ],
 "metadata": {
  "kernelspec": {
   "display_name": "Python 3",
   "language": "python",
   "name": "python3"
  },
  "language_info": {
   "codemirror_mode": {
    "name": "ipython",
    "version": 3
   },
   "file_extension": ".py",
   "mimetype": "text/x-python",
   "name": "python",
   "nbconvert_exporter": "python",
   "pygments_lexer": "ipython3",
   "version": "3.7.10"
  }
 },
 "nbformat": 4,
 "nbformat_minor": 5
}
