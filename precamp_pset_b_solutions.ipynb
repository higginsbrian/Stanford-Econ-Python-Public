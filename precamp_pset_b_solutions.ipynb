{
 "cells": [
  {
   "cell_type": "markdown",
   "id": "5fe0b59e",
   "metadata": {},
   "source": [
    "# Notebook to solve Q1 of the pre-camp Matlab problem set\n",
    "Step 0. Load packages we will need. "
   ]
  },
  {
   "cell_type": "code",
   "execution_count": 1,
   "id": "c77d517b",
   "metadata": {},
   "outputs": [],
   "source": [
    "import pandas as pd\n",
    "import matplotlib.pyplot as plt"
   ]
  },
  {
   "cell_type": "markdown",
   "id": "863dde1b",
   "metadata": {},
   "source": [
    "Use the pandas function ``data = pd.read_excel(filename)`` to import the data. Then look at the data using ``data.head()`` and ``data.tail()``. \n",
    "\n",
    "    "
   ]
  },
  {
   "cell_type": "code",
   "execution_count": 3,
   "id": "2e17c2f2",
   "metadata": {},
   "outputs": [],
   "source": [
    "data = pd.read_excel('Trip_Advisor.xlsx')"
   ]
  },
  {
   "cell_type": "code",
   "execution_count": 4,
   "id": "674accf0",
   "metadata": {},
   "outputs": [
    {
     "data": {
      "text/html": [
       "<div>\n",
       "<style scoped>\n",
       "    .dataframe tbody tr th:only-of-type {\n",
       "        vertical-align: middle;\n",
       "    }\n",
       "\n",
       "    .dataframe tbody tr th {\n",
       "        vertical-align: top;\n",
       "    }\n",
       "\n",
       "    .dataframe thead th {\n",
       "        text-align: right;\n",
       "    }\n",
       "</style>\n",
       "<table border=\"1\" class=\"dataframe\">\n",
       "  <thead>\n",
       "    <tr style=\"text-align: right;\">\n",
       "      <th></th>\n",
       "      <th>placeId</th>\n",
       "      <th>reviewNumber</th>\n",
       "      <th>userRating</th>\n",
       "      <th>userContributions</th>\n",
       "      <th>priceLevel</th>\n",
       "      <th>rating</th>\n",
       "      <th>numberOfReviews</th>\n",
       "      <th>isGreat</th>\n",
       "      <th>isFriendly</th>\n",
       "      <th>isFresh</th>\n",
       "      <th>isOk</th>\n",
       "    </tr>\n",
       "  </thead>\n",
       "  <tbody>\n",
       "    <tr>\n",
       "      <th>0</th>\n",
       "      <td>342101</td>\n",
       "      <td>0.0</td>\n",
       "      <td>5.0</td>\n",
       "      <td>222.0</td>\n",
       "      <td>$$ - $$$</td>\n",
       "      <td>4.0</td>\n",
       "      <td>61</td>\n",
       "      <td>1</td>\n",
       "      <td>0</td>\n",
       "      <td>0</td>\n",
       "      <td>0</td>\n",
       "    </tr>\n",
       "    <tr>\n",
       "      <th>1</th>\n",
       "      <td>342102</td>\n",
       "      <td>0.0</td>\n",
       "      <td>5.0</td>\n",
       "      <td>15.0</td>\n",
       "      <td>$$ - $$$</td>\n",
       "      <td>4.0</td>\n",
       "      <td>200</td>\n",
       "      <td>0</td>\n",
       "      <td>1</td>\n",
       "      <td>0</td>\n",
       "      <td>0</td>\n",
       "    </tr>\n",
       "    <tr>\n",
       "      <th>2</th>\n",
       "      <td>342102</td>\n",
       "      <td>1.0</td>\n",
       "      <td>3.0</td>\n",
       "      <td>719.0</td>\n",
       "      <td>$$ - $$$</td>\n",
       "      <td>4.0</td>\n",
       "      <td>200</td>\n",
       "      <td>0</td>\n",
       "      <td>0</td>\n",
       "      <td>0</td>\n",
       "      <td>1</td>\n",
       "    </tr>\n",
       "    <tr>\n",
       "      <th>3</th>\n",
       "      <td>342102</td>\n",
       "      <td>2.0</td>\n",
       "      <td>4.0</td>\n",
       "      <td>185.0</td>\n",
       "      <td>$$ - $$$</td>\n",
       "      <td>4.0</td>\n",
       "      <td>200</td>\n",
       "      <td>0</td>\n",
       "      <td>0</td>\n",
       "      <td>1</td>\n",
       "      <td>1</td>\n",
       "    </tr>\n",
       "    <tr>\n",
       "      <th>4</th>\n",
       "      <td>342102</td>\n",
       "      <td>3.0</td>\n",
       "      <td>3.0</td>\n",
       "      <td>78.0</td>\n",
       "      <td>$$ - $$$</td>\n",
       "      <td>4.0</td>\n",
       "      <td>200</td>\n",
       "      <td>0</td>\n",
       "      <td>0</td>\n",
       "      <td>0</td>\n",
       "      <td>1</td>\n",
       "    </tr>\n",
       "  </tbody>\n",
       "</table>\n",
       "</div>"
      ],
      "text/plain": [
       "   placeId  reviewNumber  userRating  userContributions priceLevel  rating  \\\n",
       "0   342101           0.0         5.0              222.0   $$ - $$$     4.0   \n",
       "1   342102           0.0         5.0               15.0   $$ - $$$     4.0   \n",
       "2   342102           1.0         3.0              719.0   $$ - $$$     4.0   \n",
       "3   342102           2.0         4.0              185.0   $$ - $$$     4.0   \n",
       "4   342102           3.0         3.0               78.0   $$ - $$$     4.0   \n",
       "\n",
       "   numberOfReviews  isGreat  isFriendly  isFresh  isOk  \n",
       "0               61        1           0        0     0  \n",
       "1              200        0           1        0     0  \n",
       "2              200        0           0        0     1  \n",
       "3              200        0           0        1     1  \n",
       "4              200        0           0        0     1  "
      ]
     },
     "execution_count": 4,
     "metadata": {},
     "output_type": "execute_result"
    }
   ],
   "source": [
    "data.head()"
   ]
  },
  {
   "cell_type": "code",
   "execution_count": 5,
   "id": "aa807e3c",
   "metadata": {},
   "outputs": [
    {
     "data": {
      "text/html": [
       "<div>\n",
       "<style scoped>\n",
       "    .dataframe tbody tr th:only-of-type {\n",
       "        vertical-align: middle;\n",
       "    }\n",
       "\n",
       "    .dataframe tbody tr th {\n",
       "        vertical-align: top;\n",
       "    }\n",
       "\n",
       "    .dataframe thead th {\n",
       "        text-align: right;\n",
       "    }\n",
       "</style>\n",
       "<table border=\"1\" class=\"dataframe\">\n",
       "  <thead>\n",
       "    <tr style=\"text-align: right;\">\n",
       "      <th></th>\n",
       "      <th>placeId</th>\n",
       "      <th>reviewNumber</th>\n",
       "      <th>userRating</th>\n",
       "      <th>userContributions</th>\n",
       "      <th>priceLevel</th>\n",
       "      <th>rating</th>\n",
       "      <th>numberOfReviews</th>\n",
       "      <th>isGreat</th>\n",
       "      <th>isFriendly</th>\n",
       "      <th>isFresh</th>\n",
       "      <th>isOk</th>\n",
       "    </tr>\n",
       "  </thead>\n",
       "  <tbody>\n",
       "    <tr>\n",
       "      <th>3337</th>\n",
       "      <td>14794088</td>\n",
       "      <td>NaN</td>\n",
       "      <td>NaN</td>\n",
       "      <td>NaN</td>\n",
       "      <td>NaN</td>\n",
       "      <td>4.0</td>\n",
       "      <td>1</td>\n",
       "      <td>0</td>\n",
       "      <td>0</td>\n",
       "      <td>0</td>\n",
       "      <td>0</td>\n",
       "    </tr>\n",
       "    <tr>\n",
       "      <th>3338</th>\n",
       "      <td>14801102</td>\n",
       "      <td>NaN</td>\n",
       "      <td>NaN</td>\n",
       "      <td>NaN</td>\n",
       "      <td>NaN</td>\n",
       "      <td>5.0</td>\n",
       "      <td>2</td>\n",
       "      <td>0</td>\n",
       "      <td>0</td>\n",
       "      <td>0</td>\n",
       "      <td>0</td>\n",
       "    </tr>\n",
       "    <tr>\n",
       "      <th>3339</th>\n",
       "      <td>14976823</td>\n",
       "      <td>NaN</td>\n",
       "      <td>NaN</td>\n",
       "      <td>NaN</td>\n",
       "      <td>NaN</td>\n",
       "      <td>5.0</td>\n",
       "      <td>1</td>\n",
       "      <td>0</td>\n",
       "      <td>0</td>\n",
       "      <td>0</td>\n",
       "      <td>0</td>\n",
       "    </tr>\n",
       "    <tr>\n",
       "      <th>3340</th>\n",
       "      <td>15173996</td>\n",
       "      <td>NaN</td>\n",
       "      <td>NaN</td>\n",
       "      <td>NaN</td>\n",
       "      <td>NaN</td>\n",
       "      <td>1.0</td>\n",
       "      <td>1</td>\n",
       "      <td>0</td>\n",
       "      <td>0</td>\n",
       "      <td>0</td>\n",
       "      <td>0</td>\n",
       "    </tr>\n",
       "    <tr>\n",
       "      <th>3341</th>\n",
       "      <td>17450101</td>\n",
       "      <td>NaN</td>\n",
       "      <td>NaN</td>\n",
       "      <td>NaN</td>\n",
       "      <td>$$ - $$$</td>\n",
       "      <td>NaN</td>\n",
       "      <td>0</td>\n",
       "      <td>0</td>\n",
       "      <td>0</td>\n",
       "      <td>0</td>\n",
       "      <td>0</td>\n",
       "    </tr>\n",
       "  </tbody>\n",
       "</table>\n",
       "</div>"
      ],
      "text/plain": [
       "       placeId  reviewNumber  userRating  userContributions priceLevel  \\\n",
       "3337  14794088           NaN         NaN                NaN        NaN   \n",
       "3338  14801102           NaN         NaN                NaN        NaN   \n",
       "3339  14976823           NaN         NaN                NaN        NaN   \n",
       "3340  15173996           NaN         NaN                NaN        NaN   \n",
       "3341  17450101           NaN         NaN                NaN   $$ - $$$   \n",
       "\n",
       "      rating  numberOfReviews  isGreat  isFriendly  isFresh  isOk  \n",
       "3337     4.0                1        0           0        0     0  \n",
       "3338     5.0                2        0           0        0     0  \n",
       "3339     5.0                1        0           0        0     0  \n",
       "3340     1.0                1        0           0        0     0  \n",
       "3341     NaN                0        0           0        0     0  "
      ]
     },
     "execution_count": 5,
     "metadata": {},
     "output_type": "execute_result"
    }
   ],
   "source": [
    "data.tail()"
   ]
  },
  {
   "cell_type": "markdown",
   "id": "06feca1f",
   "metadata": {},
   "source": [
    "# Generate indicators\n",
    "Use ``data['priceLevel'].value_counts()`` to see what price ratings are in the data.\n",
    "\n",
    "\n",
    "Then use ``data.loc[condition, 'Variable'] = 1`` to create indicators based on these price ratings.\n",
    "    \n",
    "    data.loc[data['priceLevel']=='$', 'PriceLow'] = 1 \n",
    "data.loc[data['priceLevel']=='$$ - $$$', 'PriceMed'] = 1\n",
    "    data.loc[data['priceLevel']=='$$$$', 'PriceHigh'] = 1"
   ]
  },
  {
   "cell_type": "code",
   "execution_count": 11,
   "id": "2c433976",
   "metadata": {},
   "outputs": [
    {
     "data": {
      "text/plain": [
       "$$ - $$$    2134\n",
       "$            357\n",
       "$$$$         232\n",
       "Name: priceLevel, dtype: int64"
      ]
     },
     "execution_count": 11,
     "metadata": {},
     "output_type": "execute_result"
    }
   ],
   "source": [
    "data['priceLevel'].value_counts()"
   ]
  },
  {
   "cell_type": "code",
   "execution_count": 12,
   "id": "06064c96",
   "metadata": {},
   "outputs": [],
   "source": [
    "data['noPrice'] = 0.0\n",
    "data['PriceLow'] = 0.0\n",
    "data['PriceMed'] = 0.0\n",
    "data['PriceHigh'] = 0.0"
   ]
  },
  {
   "cell_type": "code",
   "execution_count": 13,
   "id": "9265fa3f",
   "metadata": {},
   "outputs": [
    {
     "data": {
      "text/plain": [
       "0.0    2549\n",
       "1.0     357\n",
       "Name: PriceLow, dtype: int64"
      ]
     },
     "execution_count": 13,
     "metadata": {},
     "output_type": "execute_result"
    }
   ],
   "source": [
    "data.loc[data['priceLevel']=='$', 'PriceLow'] = 1\n",
    "data['PriceLow'].value_counts()"
   ]
  },
  {
   "cell_type": "code",
   "execution_count": 14,
   "id": "21786e0c",
   "metadata": {},
   "outputs": [
    {
     "data": {
      "text/plain": [
       "1.0    2134\n",
       "0.0     772\n",
       "Name: PriceMed, dtype: int64"
      ]
     },
     "execution_count": 14,
     "metadata": {},
     "output_type": "execute_result"
    }
   ],
   "source": [
    "data.loc[data['priceLevel']=='$$ - $$$', 'PriceMed'] = 1\n",
    "data['PriceMed'].value_counts()\n"
   ]
  },
  {
   "cell_type": "code",
   "execution_count": 15,
   "id": "e322aaae",
   "metadata": {},
   "outputs": [
    {
     "data": {
      "text/plain": [
       "0.0    2674\n",
       "1.0     232\n",
       "Name: PriceHigh, dtype: int64"
      ]
     },
     "execution_count": 15,
     "metadata": {},
     "output_type": "execute_result"
    }
   ],
   "source": [
    "data.loc[data['priceLevel']=='$$$$', 'PriceHigh'] = 1\n",
    "data['PriceHigh'].value_counts()"
   ]
  },
  {
   "cell_type": "markdown",
   "id": "5b1998ad",
   "metadata": {},
   "source": [
    "## Cleaning\n",
    "Use ``data = data[data['userRating'].notna()]`` to drop where userRating is missing.\n",
    "\n",
    "Tip. Use ``print(data.shape[0])`` to print the number of observations before and after to see how many were dropped. "
   ]
  },
  {
   "cell_type": "code",
   "execution_count": 16,
   "id": "f4cc0d00",
   "metadata": {},
   "outputs": [
    {
     "name": "stdout",
     "output_type": "stream",
     "text": [
      "2906\n"
     ]
    }
   ],
   "source": [
    "print(data.shape[0])"
   ]
  },
  {
   "cell_type": "code",
   "execution_count": 17,
   "id": "c931d47c",
   "metadata": {},
   "outputs": [],
   "source": [
    "data = data[data['userRating'].notna()]"
   ]
  },
  {
   "cell_type": "code",
   "execution_count": 18,
   "id": "87416a05",
   "metadata": {},
   "outputs": [
    {
     "name": "stdout",
     "output_type": "stream",
     "text": [
      "2906\n"
     ]
    }
   ],
   "source": [
    "print(data.shape[0])"
   ]
  },
  {
   "cell_type": "code",
   "execution_count": 19,
   "id": "e7a17d72",
   "metadata": {},
   "outputs": [],
   "source": [
    "data = data[data['noPrice']==0.0]"
   ]
  },
  {
   "cell_type": "code",
   "execution_count": 25,
   "id": "6a793602",
   "metadata": {},
   "outputs": [
    {
     "name": "stdout",
     "output_type": "stream",
     "text": [
      "2906\n"
     ]
    }
   ],
   "source": [
    "print(data.shape[0])"
   ]
  },
  {
   "cell_type": "markdown",
   "id": "aeed5011",
   "metadata": {},
   "source": [
    "# Checking your data\n",
    "We can quickly check what the data looks like by doing a bar chart of the number of observations in each category. \n",
    "\n",
    "    data['userRating'].value_counts().plot(kind='bar',\n",
    "                                    figsize=(14,8),\n",
    "                                    title=\"Bar chart of User Ratings\")\n"
   ]
  },
  {
   "cell_type": "code",
   "execution_count": 24,
   "id": "e11707ff",
   "metadata": {},
   "outputs": [
    {
     "data": {
      "text/plain": [
       "<AxesSubplot:title={'center':'Bar chart of User Ratings'}>"
      ]
     },
     "execution_count": 24,
     "metadata": {},
     "output_type": "execute_result"
    },
    {
     "data": {
      "image/png": "[encoded data removed]",
      "text/plain": [
       "<Figure size 1008x576 with 1 Axes>"
      ]
     },
     "metadata": {
      "needs_background": "light"
     },
     "output_type": "display_data"
    }
   ],
   "source": [
    "data['userRating'].value_counts().plot(kind='bar',\n",
    "                                    figsize=(14,8),\n",
    "                                    title=\"Bar chart of User Ratings\")"
   ]
  },
  {
   "cell_type": "markdown",
   "id": "30da97fb",
   "metadata": {},
   "source": [
    "# Regression\n",
    "We have two options for regressions. \n",
    "1. Built in function with statsmodels;\n",
    "2. manual option."
   ]
  },
  {
   "cell_type": "code",
   "execution_count": 26,
   "id": "7ab17401",
   "metadata": {},
   "outputs": [],
   "source": [
    "import numpy as np\n",
    "import statsmodels.api as sm"
   ]
  },
  {
   "cell_type": "markdown",
   "id": "ca4264cc",
   "metadata": {},
   "source": [
    "Create a varaible of ones that we'll use as a constant in regressons. \n",
    "\n",
    "    data['ones'] = 1.0\n",
    "\n",
    "Next create your data\n",
    "\n",
    "    y = data['userRating']\n",
    "    x = data[['ones', 'isGreat']]"
   ]
  },
  {
   "cell_type": "code",
   "execution_count": 33,
   "id": "acb32319",
   "metadata": {},
   "outputs": [
    {
     "name": "stdout",
     "output_type": "stream",
     "text": [
      "2906\n"
     ]
    }
   ],
   "source": [
    "data['ones'] = 1.0\n",
    "\n",
    "n = np.shape(data['ones'])[0]\n",
    "print(n)\n",
    "\n",
    "y = data['userRating']\n",
    "x = data[['ones', 'isGreat']]"
   ]
  },
  {
   "cell_type": "markdown",
   "id": "69f1c8a2",
   "metadata": {},
   "source": [
    "### Manual \n",
    "We can use our knowledge of OLS to compute the regression by hand.\n",
    "\\begin{eqnarray}\n",
    "\\beta = (X'X)^{-1} X'Y\n",
    "\\end{eqnarray}\n",
    "\n",
    "Use the numpy linear algebra function ``np.linalg.inv()`` and transpose ``x.T`` to compute $\\beta$"
   ]
  },
  {
   "cell_type": "code",
   "execution_count": 29,
   "id": "2e61ed0b",
   "metadata": {},
   "outputs": [],
   "source": [
    "beta = np.linalg.inv(x.T@x)@x.T@y"
   ]
  },
  {
   "cell_type": "code",
   "execution_count": 30,
   "id": "6e872cca",
   "metadata": {},
   "outputs": [
    {
     "name": "stdout",
     "output_type": "stream",
     "text": [
      "0    4.092344\n",
      "1    0.354959\n",
      "dtype: float64\n"
     ]
    }
   ],
   "source": [
    "print(beta)"
   ]
  },
  {
   "cell_type": "markdown",
   "id": "15ae501b",
   "metadata": {},
   "source": [
    "We can also compute standard errors by hand using\n",
    "\\begin{eqnarray}\n",
    "\\sigma = \\frac{\\epsilon \\epsilon '}{n-2}\n",
    "\\end{eqnarray}\n",
    "\\begin{eqnarray}\n",
    "var(\\beta) = \\sigma(X'X)^{-1}\n",
    "\\end{eqnarray}\n",
    "\n",
    "Compute the variance of your estimates and t-stats. "
   ]
  },
  {
   "cell_type": "code",
   "execution_count": 34,
   "id": "ce4e8c36",
   "metadata": {},
   "outputs": [
    {
     "name": "stdout",
     "output_type": "stream",
     "text": [
      "0.954859359707016\n"
     ]
    }
   ],
   "source": [
    "res = y - beta[0]* x['ones']- beta[1]* x['isGreat']\n",
    "sigma = res@res.T/(n-2)\n",
    "print(sigma)"
   ]
  },
  {
   "cell_type": "code",
   "execution_count": 35,
   "id": "2de2d792",
   "metadata": {},
   "outputs": [],
   "source": [
    "beta_var = sigma*np.linalg.inv(x.T@x)"
   ]
  },
  {
   "cell_type": "code",
   "execution_count": 36,
   "id": "f1ea8f28",
   "metadata": {},
   "outputs": [
    {
     "name": "stdout",
     "output_type": "stream",
     "text": [
      "[[ 0.00045687 -0.00045687]\n",
      " [-0.00045687  0.00162704]]\n"
     ]
    }
   ],
   "source": [
    "print(beta_var)"
   ]
  },
  {
   "cell_type": "code",
   "execution_count": 37,
   "id": "a09b44ec",
   "metadata": {},
   "outputs": [],
   "source": [
    "t0 = beta[0]/np.sqrt(beta_var[0,0])"
   ]
  },
  {
   "cell_type": "code",
   "execution_count": 38,
   "id": "bee98cbe",
   "metadata": {},
   "outputs": [],
   "source": [
    "t1 = beta[1]/np.sqrt(beta_var[1,1])"
   ]
  },
  {
   "cell_type": "code",
   "execution_count": 39,
   "id": "70293489",
   "metadata": {},
   "outputs": [
    {
     "name": "stdout",
     "output_type": "stream",
     "text": [
      "191.45892857705073 8.799934176297299\n"
     ]
    }
   ],
   "source": [
    "print(t0,t1)"
   ]
  },
  {
   "cell_type": "markdown",
   "id": "ad529945",
   "metadata": {},
   "source": [
    "### Built in\n",
    "Use stats models to fit the regression and confirm your manually calcualted numbers. \n",
    "\n",
    "    model = sm.OLS(y, x ).fit()\n",
    "    \n",
    "    model.summary() # Print out the statistics\n",
    "    \n",
    "    predictions = model.predict(x) # make the predictions by the model"
   ]
  },
  {
   "cell_type": "code",
   "execution_count": 42,
   "id": "98d44db7",
   "metadata": {},
   "outputs": [
    {
     "name": "stdout",
     "output_type": "stream",
     "text": [
      "0       4.447304\n",
      "1       4.092344\n",
      "2       4.092344\n",
      "3       4.092344\n",
      "4       4.092344\n",
      "          ...   \n",
      "2901    4.092344\n",
      "2902    4.447304\n",
      "2903    4.447304\n",
      "2904    4.092344\n",
      "2905    4.092344\n",
      "Length: 2906, dtype: float64\n"
     ]
    },
    {
     "data": {
      "text/html": [
       "<table class=\"simpletable\">\n",
       "<caption>OLS Regression Results</caption>\n",
       "<tr>\n",
       "  <th>Dep. Variable:</th>       <td>userRating</td>    <th>  R-squared:         </th> <td>   0.026</td>\n",
       "</tr>\n",
       "<tr>\n",
       "  <th>Model:</th>                   <td>OLS</td>       <th>  Adj. R-squared:    </th> <td>   0.026</td>\n",
       "</tr>\n",
       "<tr>\n",
       "  <th>Method:</th>             <td>Least Squares</td>  <th>  F-statistic:       </th> <td>   77.44</td>\n",
       "</tr>\n",
       "<tr>\n",
       "  <th>Date:</th>             <td>Wed, 25 Aug 2021</td> <th>  Prob (F-statistic):</th> <td>2.30e-18</td>\n",
       "</tr>\n",
       "<tr>\n",
       "  <th>Time:</th>                 <td>21:18:34</td>     <th>  Log-Likelihood:    </th> <td> -4055.3</td>\n",
       "</tr>\n",
       "<tr>\n",
       "  <th>No. Observations:</th>      <td>  2906</td>      <th>  AIC:               </th> <td>   8115.</td>\n",
       "</tr>\n",
       "<tr>\n",
       "  <th>Df Residuals:</th>          <td>  2904</td>      <th>  BIC:               </th> <td>   8127.</td>\n",
       "</tr>\n",
       "<tr>\n",
       "  <th>Df Model:</th>              <td>     1</td>      <th>                     </th>     <td> </td>   \n",
       "</tr>\n",
       "<tr>\n",
       "  <th>Covariance Type:</th>      <td>nonrobust</td>    <th>                     </th>     <td> </td>   \n",
       "</tr>\n",
       "</table>\n",
       "<table class=\"simpletable\">\n",
       "<tr>\n",
       "     <td></td>        <th>coef</th>     <th>std err</th>      <th>t</th>      <th>P>|t|</th>  <th>[0.025</th>    <th>0.975]</th>  \n",
       "</tr>\n",
       "<tr>\n",
       "  <th>ones</th>    <td>    4.0923</td> <td>    0.021</td> <td>  191.459</td> <td> 0.000</td> <td>    4.050</td> <td>    4.134</td>\n",
       "</tr>\n",
       "<tr>\n",
       "  <th>isGreat</th> <td>    0.3550</td> <td>    0.040</td> <td>    8.800</td> <td> 0.000</td> <td>    0.276</td> <td>    0.434</td>\n",
       "</tr>\n",
       "</table>\n",
       "<table class=\"simpletable\">\n",
       "<tr>\n",
       "  <th>Omnibus:</th>       <td>623.562</td> <th>  Durbin-Watson:     </th> <td>   1.833</td> \n",
       "</tr>\n",
       "<tr>\n",
       "  <th>Prob(Omnibus):</th> <td> 0.000</td>  <th>  Jarque-Bera (JB):  </th> <td>1155.061</td> \n",
       "</tr>\n",
       "<tr>\n",
       "  <th>Skew:</th>          <td>-1.329</td>  <th>  Prob(JB):          </th> <td>1.52e-251</td>\n",
       "</tr>\n",
       "<tr>\n",
       "  <th>Kurtosis:</th>      <td> 4.574</td>  <th>  Cond. No.          </th> <td>    2.44</td> \n",
       "</tr>\n",
       "</table><br/><br/>Notes:<br/>[1] Standard Errors assume that the covariance matrix of the errors is correctly specified."
      ],
      "text/plain": [
       "<class 'statsmodels.iolib.summary.Summary'>\n",
       "\"\"\"\n",
       "                            OLS Regression Results                            \n",
       "==============================================================================\n",
       "Dep. Variable:             userRating   R-squared:                       0.026\n",
       "Model:                            OLS   Adj. R-squared:                  0.026\n",
       "Method:                 Least Squares   F-statistic:                     77.44\n",
       "Date:                Wed, 25 Aug 2021   Prob (F-statistic):           2.30e-18\n",
       "Time:                        21:18:34   Log-Likelihood:                -4055.3\n",
       "No. Observations:                2906   AIC:                             8115.\n",
       "Df Residuals:                    2904   BIC:                             8127.\n",
       "Df Model:                           1                                         \n",
       "Covariance Type:            nonrobust                                         \n",
       "==============================================================================\n",
       "                 coef    std err          t      P>|t|      [0.025      0.975]\n",
       "------------------------------------------------------------------------------\n",
       "ones           4.0923      0.021    191.459      0.000       4.050       4.134\n",
       "isGreat        0.3550      0.040      8.800      0.000       0.276       0.434\n",
       "==============================================================================\n",
       "Omnibus:                      623.562   Durbin-Watson:                   1.833\n",
       "Prob(Omnibus):                  0.000   Jarque-Bera (JB):             1155.061\n",
       "Skew:                          -1.329   Prob(JB):                    1.52e-251\n",
       "Kurtosis:                       4.574   Cond. No.                         2.44\n",
       "==============================================================================\n",
       "\n",
       "Notes:\n",
       "[1] Standard Errors assume that the covariance matrix of the errors is correctly specified.\n",
       "\"\"\""
      ]
     },
     "execution_count": 42,
     "metadata": {},
     "output_type": "execute_result"
    }
   ],
   "source": [
    "import statsmodels.api as sm\n",
    "model = sm.OLS(y, x ).fit()\n",
    "predictions = model.predict(x) # make the predictions by the model\n",
    "\n",
    "# Print out the statistics\n",
    "model.summary()"
   ]
  },
  {
   "cell_type": "markdown",
   "id": "03db195c",
   "metadata": {},
   "source": [
    "# Plotting results \n",
    "Plot the fitted values against actual values."
   ]
  },
  {
   "cell_type": "code",
   "execution_count": 41,
   "id": "b06d911d",
   "metadata": {},
   "outputs": [
    {
     "data": {
      "text/plain": [
       "<matplotlib.collections.PathCollection at 0x1f138865408>"
      ]
     },
     "execution_count": 41,
     "metadata": {},
     "output_type": "execute_result"
    },
    {
     "data": {
      "image/png": "[encoded data removed]",
      "text/plain": [
       "<Figure size 432x288 with 1 Axes>"
      ]
     },
     "metadata": {
      "needs_background": "light"
     },
     "output_type": "display_data"
    }
   ],
   "source": [
    "plt.scatter(y,predictions)"
   ]
  },
  {
   "cell_type": "markdown",
   "id": "6a149b8c",
   "metadata": {},
   "source": [
    "# Improving fit\n",
    "Repeat this exercise, but for multiple explanatory variables. What combination is best in predicting user Ratings?"
   ]
  },
  {
   "cell_type": "code",
   "execution_count": null,
   "id": "494bc9d4",
   "metadata": {},
   "outputs": [],
   "source": []
  }
 ],
 "metadata": {
  "kernelspec": {
   "display_name": "Python 3",
   "language": "python",
   "name": "python3"
  },
  "language_info": {
   "codemirror_mode": {
    "name": "ipython",
    "version": 3
   },
   "file_extension": ".py",
   "mimetype": "text/x-python",
   "name": "python",
   "nbconvert_exporter": "python",
   "pygments_lexer": "ipython3",
   "version": "3.7.10"
  }
 },
 "nbformat": 4,
 "nbformat_minor": 5
}
