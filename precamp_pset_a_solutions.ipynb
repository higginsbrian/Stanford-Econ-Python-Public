{
 "cells": [
  {
   "cell_type": "markdown",
   "id": "639e0ddc",
   "metadata": {},
   "source": [
    "# Pre-camp problem set\n",
    "---\n",
    "\n",
    "\n",
    "This notebook is designed to help you practice coding in Python before programming camp. It follows the same structure of the Matlab problem set. \n",
    "\n",
    "Lets first import some packages that we will use. "
   ]
  },
  {
   "cell_type": "code",
   "execution_count": 1,
   "id": "69a2613c",
   "metadata": {},
   "outputs": [],
   "source": [
    "import numpy as np\n",
    "import time\n",
    "import matplotlib.pyplot as plt\n",
    "from numba import njit"
   ]
  },
  {
   "cell_type": "markdown",
   "id": "17e98cb8",
   "metadata": {},
   "source": [
    "## Fibonacci Numbers\n",
    "We want to write a function that exhibits the following properties:\n",
    "$$\n",
    "\\begin{eqnarray}\n",
    "f(1) &=& 1 \\\\\\\n",
    "f(2) &=& 1 \\\\\\\n",
    "f(n) &=& f(n-1) + f(n-1)\n",
    "\\end{eqnarray}\n",
    "$$\n",
    "\n",
    "---\n",
    "### Q1. A recursive function\n",
    "**(a)** Write a function *fiborecursion* that computes f(n) recursively. \n",
    "\n",
    "The algorithm is: .\n",
    "\n",
    "    if n<=2:\n",
    "        fib = 1\n",
    "    else:\n",
    "        fib = fiborecursion(n-1) + fiborecursion(n-1)\n",
    "    return fub\n"
   ]
  },
  {
   "cell_type": "code",
   "execution_count": 2,
   "id": "3400437c",
   "metadata": {},
   "outputs": [],
   "source": [
    "def fiborecursion(n):\n",
    "    \"\"\"\n",
    "    A function to compute the fibonacci sequence recursively\n",
    "    Inputs:   n   : int  , element of the series that we want to know \n",
    "    Outputs:  fib : float, f(n)\n",
    "    \"\"\"\n",
    "    if n <=2:\n",
    "        fib = 1\n",
    "    else:\n",
    "        fib = fiborecursion(n-1) + fiborecursion(n-2)\n",
    "    return fib"
   ]
  },
  {
   "cell_type": "markdown",
   "id": "f1952fe2",
   "metadata": {},
   "source": [
    "**(b)** Use your function to compute and print the first ten numbers of the sequence. \n",
    "\n",
    "*Note:* \n",
    "1. Python starts indexing at 0, so to go from f(1) to f(10) we need to tell it to go to index 11. Use ``for i in range(1,11):``\n"
   ]
  },
  {
   "cell_type": "code",
   "execution_count": 3,
   "id": "81781907",
   "metadata": {},
   "outputs": [
    {
     "name": "stdout",
     "output_type": "stream",
     "text": [
      "f(1)=  1\n",
      "f(2)=  1\n",
      "f(3)=  2\n",
      "f(4)=  3\n",
      "f(5)=  5\n",
      "f(6)=  8\n",
      "f(7)=  13\n",
      "f(8)=  21\n",
      "f(9)=  34\n",
      "f(10)=  55\n"
     ]
    }
   ],
   "source": [
    "for i in range(1,11):\n",
    "    print(f'f({i})= ',  fiborecursion(i) )      # to print the index i within the string we need put ``f`` before the string and use ``{i}`` to identify the varaible we want to print and where. "
   ]
  },
  {
   "cell_type": "markdown",
   "id": "c74a35cf",
   "metadata": {},
   "source": []
  },
  {
   "cell_type": "markdown",
   "id": "317fec1e",
   "metadata": {},
   "source": [
    "--- \n",
    "### Q2. A loop based function\n",
    "The previous function written very explicitly, and is easy to read. The only issue here is that, to evaluate fiborecursion(n), you need to first figure out fiborecursion(m) for all m<n first, which could be very slow. As a result, an alternative way of writing it is required.\n",
    "\n",
    "**(a)** Write the same function using a loop. Print the first ten numbers in the sequence. \n",
    "\n",
    "The algorithm is \n",
    "\n",
    "    if m <=2:\n",
    "        fib = 1\n",
    "    else: \n",
    "        fib = 1\n",
    "        fibprev = 1\n",
    "        \n",
    "        for i in range (3, m+1):\n",
    "            temp = fib\n",
    "            fib = fib + fibprev\n",
    "            fibprev = temp\n",
    "    return fib"
   ]
  },
  {
   "cell_type": "code",
   "execution_count": 4,
   "id": "edee4ca8",
   "metadata": {},
   "outputs": [],
   "source": [
    "def fiboloop(m):\n",
    "    if m <=2:\n",
    "        fib = 1\n",
    "    else: \n",
    "        fib = 1\n",
    "        fibprev = 1\n",
    "        \n",
    "        for i in range (3, m+1):\n",
    "            temp = fib\n",
    "            fib = fib + fibprev\n",
    "            fibprev = temp\n",
    "    return fib"
   ]
  },
  {
   "cell_type": "code",
   "execution_count": 5,
   "id": "9a2e9c2b",
   "metadata": {},
   "outputs": [
    {
     "name": "stdout",
     "output_type": "stream",
     "text": [
      "f(1)=  1\n",
      "f(2)=  1\n",
      "f(3)=  2\n",
      "f(4)=  3\n",
      "f(5)=  5\n",
      "f(6)=  8\n",
      "f(7)=  13\n",
      "f(8)=  21\n",
      "f(9)=  34\n",
      "f(10)=  55\n"
     ]
    }
   ],
   "source": [
    "for i in range(1,11):\n",
    "    print(f'f({i})= ',  fiboloop(i) )"
   ]
  },
  {
   "cell_type": "markdown",
   "id": "1c5d6e68",
   "metadata": {},
   "source": [
    "---\n",
    "## Q3. Timing and plotting.\n",
    "Now lets time your functions. \n",
    "\n",
    "**(a)**\n",
    "1. Initialize a vector to store times using ``np.zeros(T)``\n",
    "2. Write a loop that computes f(n) up to n=30 \n",
    "3. Store the time taken using `` start[i]= time.time()`` to start and ``end[i] = time.time() - start[i]``\n",
    "4. Plot the times up to n=30 for each function using ``plt.plot(x,y)``"
   ]
  },
  {
   "cell_type": "code",
   "execution_count": 6,
   "id": "3b086c85",
   "metadata": {},
   "outputs": [],
   "source": [
    "index = np.arange(30)+1\n",
    "start = np.zeros((30,2))\n",
    "end = np.zeros((30,2))\n",
    "fib = np.zeros((30,2))\n",
    "\n",
    "\n",
    "for i in range(1,31):\n",
    "    start[i-1,0] = time.time()\n",
    "    fib[i-1,0] =  fiborecursion(i)\n",
    "    end[i-1,0] = time.time() - start[i-1,0]\n",
    "    \n",
    "    start[i-1,1] = time.time()\n",
    "    fib[i-1,1] =  fiboloop(i)\n",
    "    end[i-1,1] = time.time() - start[i-1,1]\n",
    "\n",
    "assert fib[25,0] == fib[25,1]"
   ]
  },
  {
   "cell_type": "code",
   "execution_count": 7,
   "id": "9bce1c8b",
   "metadata": {},
   "outputs": [
    {
     "data": {
      "text/plain": [
       "[<matplotlib.lines.Line2D at 0x259b8078b48>,\n",
       " <matplotlib.lines.Line2D at 0x259b7e13448>]"
      ]
     },
     "execution_count": 7,
     "metadata": {},
     "output_type": "execute_result"
    },
    {
     "data": {
      "image/png": "[encoded data removed]",
      "text/plain": [
       "<Figure size 432x288 with 1 Axes>"
      ]
     },
     "metadata": {
      "needs_background": "light"
     },
     "output_type": "display_data"
    }
   ],
   "source": [
    "# This will give us a quick and dirty plot\n",
    "plt.plot(end)"
   ]
  },
  {
   "cell_type": "markdown",
   "id": "a7647260",
   "metadata": {},
   "source": [
    "While ``plt.plot()`` can make a plot quickly, it will not be very clear or readable. \n",
    "\n",
    "**(b)** Make your plot look good:\n",
    "1. Pick some nice colors for the lines, and make one of them dashed;\n",
    "2. Add axis labels, e.g. using ``plt.ylabel()``\n",
    "3. Add labels to your lines ``plt.plot(x,y, label = \"This is a label\")``, and show them with a legend ``plt.legend()''\n",
    "4. Increase the font and line size on everything \n",
    "5. Check out more options and ideas at the Matplotlib website, [here](https://matplotlib.org/stable/api/_as_gen/matplotlib.pyplot.plot.html) and [there](https://matplotlib.org/stable/gallery/index.html)."
   ]
  },
  {
   "cell_type": "code",
   "execution_count": 8,
   "id": "c8aa4447",
   "metadata": {},
   "outputs": [
    {
     "data": {
      "image/png": "[encoded data removed]",
      "text/plain": [
       "<Figure size 864x648 with 1 Axes>"
      ]
     },
     "metadata": {
      "needs_background": "light"
     },
     "output_type": "display_data"
    }
   ],
   "source": [
    "\n",
    "plt.figure(figsize=(12,9))\n",
    "plt.title('Timing Fibonacci functions', fontsize = 18)\n",
    "plt.plot(end[:,0], color= 'black', linestyle ='-', linewidth=3, label = \"Recursive\", )\n",
    "plt.plot(end[:,1], color= 'gray', linestyle ='--', lw=4,        label = \"Loop\")\n",
    "plt.ylabel('Time (s)', fontsize =18)\n",
    "plt.xlabel('nth element in sequence', fontsize = 18)\n",
    "plt.xticks( fontsize = 18)\n",
    "plt.yticks( fontsize = 18)\n",
    "plt.legend( fontsize = 18)\n",
    "plt.savefig('figure_name.png') # this will save in the same folders as this notebook"
   ]
  },
  {
   "cell_type": "markdown",
   "id": "82c3d837",
   "metadata": {},
   "source": [
    "## Q4. Why is one function faster than the other?\n",
    "\n",
    "(This is your chance to use a Markdown cell to write some text!)\n"
   ]
  },
  {
   "cell_type": "code",
   "execution_count": null,
   "id": "4d4bc9c2",
   "metadata": {},
   "outputs": [],
   "source": []
  },
  {
   "cell_type": "markdown",
   "id": "8daccbaa",
   "metadata": {},
   "source": [
    "# Bonus: going even faster\n",
    "Python is an interpreted language. Each time an interpreted program is run, the interpreter must convert source code into machine code before it is run. This can be really helpful because the python interpreter does lots of work that might need to be done by the programmer in other languages (such as keeping track of varaible types).\n",
    "\n",
    "But, this can make Python pretty slow. Luckily this is where numba can help. By adding the a numba *decorator* to a function, Numba will convert this function to machine code and store it. The first run will have an initial set-up cost, but then every other run will be alot faster. \n",
    "\n",
    "**(a)** Adapt your ``fiboloop`` function to add the ``@njit'' decorator. \n",
    "\n",
    "    @njit\n",
    "    def fiboloop_numba(m):\n",
    "        #Same code as before"
   ]
  },
  {
   "cell_type": "code",
   "execution_count": 9,
   "id": "16818d6d",
   "metadata": {},
   "outputs": [],
   "source": [
    "@njit\n",
    "def fiboloop_numba(m):\n",
    "    if m <=2:\n",
    "        fib = 1\n",
    "    else: \n",
    "        fib = 1\n",
    "        fibprev = 1\n",
    "        \n",
    "        for i in range (3, m+1):\n",
    "            temp = fib\n",
    "            fib = fib + fibprev\n",
    "            fibprev = temp\n",
    "    return fib"
   ]
  },
  {
   "cell_type": "markdown",
   "id": "99ba9564",
   "metadata": {},
   "source": [
    "Your functions will be so fast that the previous timing loop will not detect much of a difference on one iteration. The function ``%timeit`` will run many loops to time your functions. \n",
    "\n",
    "**(b)** Time both your loop based functions using ``%timeit``. How big is the numba speedup?\n",
    "\n",
    "    %timeit fiboloop(1000)\n",
    "    \n",
    "*Note:* ns (nanoseconds) and us (microseconds) and ms (milisecond) are 10-9 and 10-6 and 10-3 (0.001) seconds respectively."
   ]
  },
  {
   "cell_type": "code",
   "execution_count": 10,
   "id": "74c921f0",
   "metadata": {},
   "outputs": [
    {
     "name": "stdout",
     "output_type": "stream",
     "text": [
      "65 µs ± 3.49 µs per loop (mean ± std. dev. of 7 runs, 10000 loops each)\n",
      "The slowest run took 6.40 times longer than the fastest. This could mean that an intermediate result is being cached.\n",
      "914 ns ± 936 ns per loop (mean ± std. dev. of 7 runs, 1 loop each)\n"
     ]
    }
   ],
   "source": [
    "%timeit fiboloop(1000)\n",
    "%timeit fiboloop_numba(1000)"
   ]
  },
  {
   "cell_type": "code",
   "execution_count": 11,
   "id": "d3932b6c",
   "metadata": {},
   "outputs": [
    {
     "name": "stdout",
     "output_type": "stream",
     "text": [
      "Numba speed up: 262x\n"
     ]
    }
   ],
   "source": [
    "n_max  = 5000\n",
    "index = np.arange(n_max)+1\n",
    "\n",
    "\n",
    "start = time.time()\n",
    "for i in range(1,(n_max+1)):\n",
    "    fib =  fiboloop(i)\n",
    "end_normal = time.time() - start\n",
    "\n",
    "start = time.time()\n",
    "for i in range(1,(n_max+1)):\n",
    "    fib =  fiboloop_numba(i)\n",
    "end_numba = time.time() - start\n",
    "\n",
    "numba_speed_up = end_normal/end_numba\n",
    "print(f'Numba speed up: {numba_speed_up :.0f}x')"
   ]
  },
  {
   "cell_type": "code",
   "execution_count": null,
   "id": "3ca8fd4a",
   "metadata": {},
   "outputs": [],
   "source": []
  },
  {
   "cell_type": "code",
   "execution_count": null,
   "id": "5d23105b",
   "metadata": {},
   "outputs": [],
   "source": []
  }
 ],
 "metadata": {
  "kernelspec": {
   "display_name": "Python 3",
   "language": "python",
   "name": "python3"
  },
  "language_info": {
   "codemirror_mode": {
    "name": "ipython",
    "version": 3
   },
   "file_extension": ".py",
   "mimetype": "text/x-python",
   "name": "python",
   "nbconvert_exporter": "python",
   "pygments_lexer": "ipython3",
   "version": "3.7.10"
  }
 },
 "nbformat": 4,
 "nbformat_minor": 5
}
