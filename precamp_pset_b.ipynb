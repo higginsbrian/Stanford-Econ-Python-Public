{
 "cells": [
  {
   "cell_type": "markdown",
   "id": "a713ac0b",
   "metadata": {},
   "source": [
    "# Notebook to solve Q1 of the pre-camp Matlab problem set\n",
    "Step 0. Load packages we will need. "
   ]
  },
  {
   "cell_type": "code",
   "execution_count": 1,
   "id": "9619aae6",
   "metadata": {},
   "outputs": [],
   "source": [
    "import pandas as pd\n",
    "import matplotlib.pyplot as plt"
   ]
  },
  {
   "cell_type": "markdown",
   "id": "5d1404a1",
   "metadata": {},
   "source": [
    "Use the pandas function ``data = pd.read_excel(filename)`` to import the data. Then look at the data using ``data.head()`` and ``data.tail()``. \n",
    "\n",
    "    "
   ]
  },
  {
   "cell_type": "markdown",
   "id": "0f4b6f13",
   "metadata": {},
   "source": [
    "# Generate indicators\n",
    "Use ``data['priceLevel'].value_counts()`` to see what price ratings are in the data.\n",
    "\n",
    "\n",
    "Then use ``data.loc[condition, 'Variable'] = 1`` to create indicators based on these price ratings.\n",
    "    \n",
    "    data.loc[data['priceLevel']=='$', 'PriceLow'] = 1 \n",
    "data.loc[data['priceLevel']=='$$ - $$$', 'PriceMed'] = 1\n",
    "    data.loc[data['priceLevel']=='$$$$', 'PriceHigh'] = 1"
   ]
  },
  {
   "cell_type": "code",
   "execution_count": null,
   "id": "5ee1a935",
   "metadata": {},
   "outputs": [],
   "source": []
  },
  {
   "cell_type": "markdown",
   "id": "e88b3e55",
   "metadata": {},
   "source": [
    "## Cleaning\n",
    "Use ``data = data[data['userRating'].notna()]`` to drop where userRating is missing.\n",
    "\n",
    "Tip. Use ``print(data.shape[0])`` to print the number of observations before and after to see how many were dropped. "
   ]
  },
  {
   "cell_type": "code",
   "execution_count": null,
   "id": "b0b21d3f",
   "metadata": {},
   "outputs": [],
   "source": []
  },
  {
   "cell_type": "markdown",
   "id": "2156d29a",
   "metadata": {},
   "source": [
    "# Checking your data\n",
    "We can quickly check what the data looks like by doing a bar chart of the number of observations in each category. \n",
    "\n",
    "    data['userRating'].value_counts().plot(kind='bar',\n",
    "                                    figsize=(14,8),\n",
    "                                    title=\"Bar chart of User Ratings\")\n"
   ]
  },
  {
   "cell_type": "code",
   "execution_count": null,
   "id": "a39d7944",
   "metadata": {},
   "outputs": [],
   "source": []
  },
  {
   "cell_type": "markdown",
   "id": "9fcccd42",
   "metadata": {},
   "source": [
    "# Regression\n",
    "We have two options for regressions. \n",
    "1. Built in function with statsmodels;\n",
    "2. manual option."
   ]
  },
  {
   "cell_type": "code",
   "execution_count": 26,
   "id": "7060881c",
   "metadata": {},
   "outputs": [],
   "source": [
    "import numpy as np\n",
    "import statsmodels.api as sm"
   ]
  },
  {
   "cell_type": "markdown",
   "id": "565b75da",
   "metadata": {},
   "source": [
    "Create a varaible of ones that we'll use as a constant in regressons. \n",
    "\n",
    "    data['ones'] = 1.0\n",
    "\n",
    "Next create your data\n",
    "\n",
    "    y = data['userRating']\n",
    "    x = data[['ones', 'isGreat']]"
   ]
  },
  {
   "cell_type": "code",
   "execution_count": null,
   "id": "adffb5a5",
   "metadata": {},
   "outputs": [],
   "source": []
  },
  {
   "cell_type": "markdown",
   "id": "c8e325c9",
   "metadata": {},
   "source": [
    "### Manual \n",
    "We can use our knowledge of OLS to compute the regression by hand.\n",
    "\\begin{eqnarray}\n",
    "\\beta = (X'X)^{-1} X'Y\n",
    "\\end{eqnarray}\n",
    "\n",
    "Use the numpy linear algebra function ``np.linalg.inv()`` and transpose ``x.T`` to compute $\\beta$"
   ]
  },
  {
   "cell_type": "code",
   "execution_count": null,
   "id": "c16f7403",
   "metadata": {},
   "outputs": [],
   "source": []
  },
  {
   "cell_type": "markdown",
   "id": "8dd1d7ac",
   "metadata": {},
   "source": [
    "We can also compute standard errors by hand using\n",
    "\\begin{eqnarray}\n",
    "\\sigma = \\frac{\\epsilon \\epsilon '}{n-2}\n",
    "\\end{eqnarray}\n",
    "\\begin{eqnarray}\n",
    "var(\\beta) = \\sigma(X'X)^{-1}\n",
    "\\end{eqnarray}\n",
    "\n",
    "Compute the variance of your estimates and t-stats. "
   ]
  },
  {
   "cell_type": "code",
   "execution_count": null,
   "id": "8a990abe",
   "metadata": {},
   "outputs": [],
   "source": []
  },
  {
   "cell_type": "markdown",
   "id": "d073af8a",
   "metadata": {},
   "source": [
    "### Built in\n",
    "Use stats models to fit the regression and confirm your manually calcualted numbers. \n",
    "\n",
    "    model = sm.OLS(y, x ).fit()\n",
    "    \n",
    "    model.summary() # Print out the statistics\n",
    "    \n",
    "    predictions = model.predict(x) # make the predictions by the model"
   ]
  },
  {
   "cell_type": "code",
   "execution_count": null,
   "id": "ba7f9ffd",
   "metadata": {},
   "outputs": [],
   "source": []
  },
  {
   "cell_type": "markdown",
   "id": "c84e56db",
   "metadata": {},
   "source": [
    "# Plotting results \n",
    "Plot the fitted values against actual values."
   ]
  },
  {
   "cell_type": "code",
   "execution_count": null,
   "id": "138ddae2",
   "metadata": {},
   "outputs": [],
   "source": []
  },
  {
   "cell_type": "markdown",
   "id": "8c543450",
   "metadata": {},
   "source": [
    "# Improving fit\n",
    "Repeat this exercise, but for multiple explanatory variables. What combination is best in predicting user Ratings?"
   ]
  },
  {
   "cell_type": "code",
   "execution_count": null,
   "id": "78646099",
   "metadata": {},
   "outputs": [],
   "source": []
  }
 ],
 "metadata": {
  "kernelspec": {
   "display_name": "Python 3",
   "language": "python",
   "name": "python3"
  },
  "language_info": {
   "codemirror_mode": {
    "name": "ipython",
    "version": 3
   },
   "file_extension": ".py",
   "mimetype": "text/x-python",
   "name": "python",
   "nbconvert_exporter": "python",
   "pygments_lexer": "ipython3",
   "version": "3.7.10"
  }
 },
 "nbformat": 4,
 "nbformat_minor": 5
}
